{
 "cells": [
  {
   "cell_type": "markdown",
   "metadata": {},
   "source": [
    "# Stacking of LSTM and GRU for IMDB sentiment prediction\n",
    "\n",
    "## Goal:\n",
    "* Stacking layer to get good fit model.\n",
    "* For detail overview of data, please go to the [the link](https://bit.ly/346w0IW)"
   ]
  },
  {
   "cell_type": "markdown",
   "metadata": {},
   "source": [
    "## Data"
   ]
  },
  {
   "cell_type": "code",
   "execution_count": 1,
   "metadata": {},
   "outputs": [
    {
     "name": "stderr",
     "output_type": "stream",
     "text": [
      "Using TensorFlow backend.\n"
     ]
    },
    {
     "name": "stdout",
     "output_type": "stream",
     "text": [
      "INFO: Loading imdb dataset...\n",
      "INFO: # of training sequences 25000\n",
      "INFO: # of testing sequences 25000\n",
      "INFO: train shape  (25000, 400)\n",
      "INFO: test shape  (25000, 400)\n"
     ]
    }
   ],
   "source": [
    "from keras.datasets import imdb\n",
    "from keras.preprocessing import sequence\n",
    "import numpy as np\n",
    "\n",
    "# As imdb.load_data() gave an error, found in stackoverflow following suggestions\n",
    "np_load_old = np.load\n",
    "np.load = lambda *a,**k: np_load_old(*a, allow_pickle=True, **k)\n",
    "\n",
    "# Load the most frequently appeared words in top 10000\n",
    "print(\"INFO: Loading imdb dataset...\")\n",
    "(data_train, value_train), (data_test, value_test) = imdb.load_data(path=\"imdb.npz\", num_words=10000)\n",
    "print(\"INFO: # of training sequences %d\" %len(data_train))\n",
    "print(\"INFO: # of testing sequences %d\" %len(data_test))\n",
    "\n",
    "in_max_len = 400\n",
    "data_train = sequence.pad_sequences(data_train, maxlen=in_max_len)\n",
    "data_test = sequence.pad_sequences(data_test, maxlen=in_max_len)\n",
    "print(\"INFO: train shape \", data_train.shape)\n",
    "print(\"INFO: test shape \", data_test.shape)"
   ]
  },
  {
   "cell_type": "markdown",
   "metadata": {},
   "source": [
    "## Matplotlib setup"
   ]
  },
  {
   "cell_type": "code",
   "execution_count": 2,
   "metadata": {},
   "outputs": [],
   "source": [
    "%matplotlib inline\n",
    "import matplotlib as mpl\n",
    "import matplotlib.pyplot as plt\n",
    "import matplotlib.colors as colors\n",
    "\n",
    "import seaborn as sns\n",
    "\n",
    "mpl.rc('axes', labelsize=14)\n",
    "mpl.rc('xtick', labelsize=12)\n",
    "mpl.rc('ytick', labelsize=12)\n",
    "\n",
    "font      = {'family':'arial', 'style':'normal', 'size':18}\n",
    "axis_font = {'family':'arial', 'style':'normal', 'size':18}\n",
    "plt.rc('font', **font)"
   ]
  },
  {
   "cell_type": "markdown",
   "metadata": {},
   "source": [
    "## Models"
   ]
  },
  {
   "cell_type": "code",
   "execution_count": 3,
   "metadata": {},
   "outputs": [],
   "source": [
    "from keras.models import Sequential\n",
    "from keras.layers import SimpleRNN, Embedding, LSTM, Dropout, Flatten, Dense, GRU, Bidirectional"
   ]
  },
  {
   "cell_type": "markdown",
   "metadata": {},
   "source": [
    "## Stacking long short-term memory (LSTM) "
   ]
  },
  {
   "cell_type": "markdown",
   "metadata": {},
   "source": [
    "### 1. Tanh:tanh activation functions"
   ]
  },
  {
   "cell_type": "code",
   "execution_count": 4,
   "metadata": {},
   "outputs": [
    {
     "name": "stderr",
     "output_type": "stream",
     "text": [
      "WARNING: Logging before flag parsing goes to stderr.\n",
      "W0823 12:08:03.384656 139843532212032 deprecation_wrapper.py:119] From /home/rojan/Kathmandu/Virtual/env/lib64/python3.6/site-packages/keras/backend/tensorflow_backend.py:74: The name tf.get_default_graph is deprecated. Please use tf.compat.v1.get_default_graph instead.\n",
      "\n",
      "W0823 12:08:03.628071 139843532212032 deprecation_wrapper.py:119] From /home/rojan/Kathmandu/Virtual/env/lib64/python3.6/site-packages/keras/backend/tensorflow_backend.py:517: The name tf.placeholder is deprecated. Please use tf.compat.v1.placeholder instead.\n",
      "\n",
      "W0823 12:08:03.631917 139843532212032 deprecation_wrapper.py:119] From /home/rojan/Kathmandu/Virtual/env/lib64/python3.6/site-packages/keras/backend/tensorflow_backend.py:4138: The name tf.random_uniform is deprecated. Please use tf.random.uniform instead.\n",
      "\n",
      "W0823 12:08:04.122758 139843532212032 deprecation_wrapper.py:119] From /home/rojan/Kathmandu/Virtual/env/lib64/python3.6/site-packages/keras/optimizers.py:790: The name tf.train.Optimizer is deprecated. Please use tf.compat.v1.train.Optimizer instead.\n",
      "\n",
      "W0823 12:08:04.135710 139843532212032 deprecation_wrapper.py:119] From /home/rojan/Kathmandu/Virtual/env/lib64/python3.6/site-packages/keras/backend/tensorflow_backend.py:3376: The name tf.log is deprecated. Please use tf.math.log instead.\n",
      "\n",
      "W0823 12:08:04.139889 139843532212032 deprecation.py:323] From /home/rojan/Kathmandu/Virtual/env/lib64/python3.6/site-packages/tensorflow/python/ops/nn_impl.py:180: add_dispatch_support.<locals>.wrapper (from tensorflow.python.ops.array_ops) is deprecated and will be removed in a future version.\n",
      "Instructions for updating:\n",
      "Use tf.where in 2.0, which has the same broadcast rule as np.where\n"
     ]
    },
    {
     "name": "stdout",
     "output_type": "stream",
     "text": [
      "_________________________________________________________________\n",
      "Layer (type)                 Output Shape              Param #   \n",
      "=================================================================\n",
      "embedding_1 (Embedding)      (None, None, 256)         2560000   \n",
      "_________________________________________________________________\n",
      "lstm_1 (LSTM)                (None, None, 128)         197120    \n",
      "_________________________________________________________________\n",
      "lstm_2 (LSTM)                (None, 128)               131584    \n",
      "_________________________________________________________________\n",
      "dense_1 (Dense)              (None, 1)                 129       \n",
      "=================================================================\n",
      "Total params: 2,888,833\n",
      "Trainable params: 2,888,833\n",
      "Non-trainable params: 0\n",
      "_________________________________________________________________\n"
     ]
    },
    {
     "name": "stderr",
     "output_type": "stream",
     "text": [
      "W0823 12:08:05.205013 139843532212032 deprecation_wrapper.py:119] From /home/rojan/Kathmandu/Virtual/env/lib64/python3.6/site-packages/keras/backend/tensorflow_backend.py:986: The name tf.assign_add is deprecated. Please use tf.compat.v1.assign_add instead.\n",
      "\n"
     ]
    },
    {
     "name": "stdout",
     "output_type": "stream",
     "text": [
      "Train on 22500 samples, validate on 2500 samples\n",
      "Epoch 1/10\n",
      "22500/22500 [==============================] - 209s 9ms/step - loss: 0.4836 - acc: 0.7759 - val_loss: 0.3612 - val_acc: 0.8588\n",
      "Epoch 2/10\n",
      "22500/22500 [==============================] - 208s 9ms/step - loss: 0.3275 - acc: 0.8695 - val_loss: 0.8436 - val_acc: 0.7468\n",
      "Epoch 3/10\n",
      "22500/22500 [==============================] - 212s 9ms/step - loss: 0.2554 - acc: 0.8996 - val_loss: 0.4153 - val_acc: 0.8256\n",
      "Epoch 4/10\n",
      "22500/22500 [==============================] - 212s 9ms/step - loss: 0.2289 - acc: 0.9152 - val_loss: 0.3311 - val_acc: 0.8580\n",
      "Epoch 5/10\n",
      "22500/22500 [==============================] - 215s 10ms/step - loss: 0.1874 - acc: 0.9313 - val_loss: 0.3271 - val_acc: 0.8800\n",
      "Epoch 6/10\n",
      "22500/22500 [==============================] - 212s 9ms/step - loss: 0.1556 - acc: 0.9438 - val_loss: 0.3454 - val_acc: 0.8756\n",
      "Epoch 7/10\n",
      "22500/22500 [==============================] - 212s 9ms/step - loss: 0.1332 - acc: 0.9528 - val_loss: 0.3609 - val_acc: 0.8784\n",
      "Epoch 8/10\n",
      "22500/22500 [==============================] - 213s 9ms/step - loss: 0.1051 - acc: 0.9643 - val_loss: 0.5080 - val_acc: 0.8408\n",
      "Epoch 9/10\n",
      "22500/22500 [==============================] - 213s 9ms/step - loss: 0.0915 - acc: 0.9685 - val_loss: 0.4181 - val_acc: 0.8748\n",
      "Epoch 10/10\n",
      "22500/22500 [==============================] - 213s 9ms/step - loss: 0.0723 - acc: 0.9759 - val_loss: 0.5301 - val_acc: 0.8568\n",
      "25000/25000 [==============================] - 48s 2ms/step\n",
      "Loss:  0.566452631072998\n",
      "Accuracy:  0.8494400000190735\n"
     ]
    }
   ],
   "source": [
    "# Architecture\n",
    "model = Sequential()\n",
    "model.add(Embedding(10000, 256))\n",
    "model.add(LSTM(128, activation='tanh', return_sequences=True))\n",
    "model.add(LSTM(128, activation='tanh'))\n",
    "model.add(Dense(1, activation='sigmoid'))\n",
    "model.compile(optimizer='rmsprop', loss='binary_crossentropy', metrics=['acc'])\n",
    "model.summary()\n",
    "\n",
    "# Fitting data\n",
    "LSTM2Log = model.fit(data_train, value_train,\n",
    "                       epochs=10,\n",
    "                       batch_size=128,\n",
    "                       validation_split=0.1)\n",
    "\n",
    "# Testing accuracy of parameters\n",
    "fo_loss, fo_accuracy = model.evaluate(data_test, value_test, batch_size=128)\n",
    "print(\"Loss: \", fo_loss)\n",
    "print(\"Accuracy: \", fo_accuracy)"
   ]
  },
  {
   "cell_type": "code",
   "execution_count": 5,
   "metadata": {},
   "outputs": [
    {
     "data": {
      "text/plain": [
       "<matplotlib.legend.Legend at 0x7f2f6950abe0>"
      ]
     },
     "execution_count": 5,
     "metadata": {},
     "output_type": "execute_result"
    },
    {
     "name": "stderr",
     "output_type": "stream",
     "text": [
      "W0823 12:44:13.484342 139843532212032 font_manager.py:1282] findfont: Font family ['arial'] not found. Falling back to DejaVu Sans.\n",
      "W0823 12:44:13.745966 139843532212032 font_manager.py:1282] findfont: Font family ['arial'] not found. Falling back to DejaVu Sans.\n",
      "W0823 12:44:13.765975 139843532212032 font_manager.py:1282] findfont: Font family ['arial'] not found. Falling back to DejaVu Sans.\n"
     ]
    },
    {
     "data": {
      "image/png": "[encoded data removed]",
      "text/plain": [
       "<Figure size 720x360 with 1 Axes>"
      ]
     },
     "metadata": {
      "needs_background": "light"
     },
     "output_type": "display_data"
    }
   ],
   "source": [
    "ts_tra_loss = LSTM2Log.history['loss']\n",
    "ts_val_loss = LSTM2Log.history['val_loss']\n",
    "\n",
    "ts_in_epochs = np.arange(0, len(ts_tra_loss))\n",
    "fig = plt.figure(figsize=(10, 5))\n",
    "\n",
    "plt.plot(ts_in_epochs, ts_tra_loss, 's-', color=\"k\", label='Training loss')\n",
    "plt.plot(ts_in_epochs, ts_val_loss, '^-', color=\"b\", label='Validation loss')\n",
    "\n",
    "ts_xlabels = np.arange(0, len(ts_in_epochs), 2)\n",
    "plt.xticks(ts_xlabels, ts_xlabels, fontsize=14)\n",
    "\n",
    "plt.xlabel(\"Epochs\", axis_font)\n",
    "plt.ylabel(\"Losses\", axis_font)\n",
    "plt.legend(ncol=2, frameon=False, fontsize=14)"
   ]
  },
  {
   "cell_type": "markdown",
   "metadata": {},
   "source": [
    "### 2. Sigmoid:sigmoid activation functions"
   ]
  },
  {
   "cell_type": "code",
   "execution_count": 6,
   "metadata": {},
   "outputs": [
    {
     "name": "stdout",
     "output_type": "stream",
     "text": [
      "_________________________________________________________________\n",
      "Layer (type)                 Output Shape              Param #   \n",
      "=================================================================\n",
      "embedding_2 (Embedding)      (None, None, 256)         2560000   \n",
      "_________________________________________________________________\n",
      "lstm_3 (LSTM)                (None, None, 128)         197120    \n",
      "_________________________________________________________________\n",
      "lstm_4 (LSTM)                (None, 128)               131584    \n",
      "_________________________________________________________________\n",
      "dense_2 (Dense)              (None, 1)                 129       \n",
      "=================================================================\n",
      "Total params: 2,888,833\n",
      "Trainable params: 2,888,833\n",
      "Non-trainable params: 0\n",
      "_________________________________________________________________\n",
      "Train on 22500 samples, validate on 2500 samples\n",
      "Epoch 1/10\n",
      "22500/22500 [==============================] - 211s 9ms/step - loss: 0.6332 - acc: 0.6128 - val_loss: 0.5017 - val_acc: 0.7532\n",
      "Epoch 2/10\n",
      "22500/22500 [==============================] - 209s 9ms/step - loss: 0.4153 - acc: 0.8181 - val_loss: 0.4434 - val_acc: 0.8052\n",
      "Epoch 3/10\n",
      "22500/22500 [==============================] - 213s 9ms/step - loss: 0.3226 - acc: 0.8701 - val_loss: 0.3180 - val_acc: 0.8724\n",
      "Epoch 4/10\n",
      "22500/22500 [==============================] - 212s 9ms/step - loss: 0.2743 - acc: 0.8936 - val_loss: 0.3272 - val_acc: 0.8664\n",
      "Epoch 5/10\n",
      "22500/22500 [==============================] - 209s 9ms/step - loss: 0.2343 - acc: 0.9095 - val_loss: 0.3943 - val_acc: 0.8552\n",
      "Epoch 6/10\n",
      "22500/22500 [==============================] - 211s 9ms/step - loss: 0.2048 - acc: 0.9232 - val_loss: 0.2887 - val_acc: 0.8832\n",
      "Epoch 7/10\n",
      "22500/22500 [==============================] - 210s 9ms/step - loss: 0.1828 - acc: 0.9320 - val_loss: 0.3033 - val_acc: 0.8844\n",
      "Epoch 8/10\n",
      "22500/22500 [==============================] - 210s 9ms/step - loss: 0.1601 - acc: 0.9397 - val_loss: 0.3361 - val_acc: 0.8740\n",
      "Epoch 9/10\n",
      "22500/22500 [==============================] - 210s 9ms/step - loss: 0.1466 - acc: 0.9454 - val_loss: 0.3726 - val_acc: 0.8648\n",
      "Epoch 10/10\n",
      "22500/22500 [==============================] - 211s 9ms/step - loss: 0.1309 - acc: 0.9519 - val_loss: 0.3448 - val_acc: 0.8828\n",
      "25000/25000 [==============================] - 46s 2ms/step\n",
      "Loss:  0.364890349650383\n",
      "Accuracy:  0.8714\n"
     ]
    }
   ],
   "source": [
    "# Architecture\n",
    "model = Sequential()\n",
    "model.add(Embedding(10000, 256))\n",
    "model.add(LSTM(128, activation='sigmoid', return_sequences=True))\n",
    "model.add(LSTM(128, activation='sigmoid'))\n",
    "model.add(Dense(1, activation='sigmoid'))\n",
    "model.compile(optimizer='rmsprop', loss='binary_crossentropy', metrics=['acc'])\n",
    "model.summary()\n",
    "\n",
    "# Fitting data\n",
    "LSTM2Log = model.fit(data_train, value_train,\n",
    "                       epochs=10,\n",
    "                       batch_size=128,\n",
    "                       validation_split=0.1)\n",
    "\n",
    "# Testing accuracy of parameters\n",
    "fo_loss, fo_accuracy = model.evaluate(data_test, value_test, batch_size=128)\n",
    "print(\"Loss: \", fo_loss)\n",
    "print(\"Accuracy: \", fo_accuracy)"
   ]
  },
  {
   "cell_type": "code",
   "execution_count": 7,
   "metadata": {},
   "outputs": [
    {
     "data": {
      "text/plain": [
       "<matplotlib.legend.Legend at 0x7f2f107075f8>"
      ]
     },
     "execution_count": 7,
     "metadata": {},
     "output_type": "execute_result"
    },
    {
     "data": {
      "image/png": "[encoded data removed]",
      "text/plain": [
       "<Figure size 720x360 with 1 Axes>"
      ]
     },
     "metadata": {
      "needs_background": "light"
     },
     "output_type": "display_data"
    }
   ],
   "source": [
    "ts_tra_loss = LSTM2Log.history['loss']\n",
    "ts_val_loss = LSTM2Log.history['val_loss']\n",
    "\n",
    "ts_in_epochs = np.arange(0, len(ts_tra_loss))\n",
    "fig = plt.figure(figsize=(10, 5))\n",
    "\n",
    "plt.plot(ts_in_epochs, ts_tra_loss, 's-', color=\"k\", label='Training loss')\n",
    "plt.plot(ts_in_epochs, ts_val_loss, '^-', color=\"b\", label='Validation loss')\n",
    "\n",
    "ts_xlabels = np.arange(0, len(ts_in_epochs), 2)\n",
    "plt.xticks(ts_xlabels, ts_xlabels, fontsize=14)\n",
    "\n",
    "plt.xlabel(\"Epochs\", axis_font)\n",
    "plt.ylabel(\"Losses\", axis_font)\n",
    "plt.legend(ncol=2, frameon=False, fontsize=14)\n"
   ]
  },
  {
   "cell_type": "markdown",
   "metadata": {},
   "source": [
    "### 3. Sigmoid:tanh activation functions"
   ]
  },
  {
   "cell_type": "code",
   "execution_count": 8,
   "metadata": {},
   "outputs": [
    {
     "name": "stdout",
     "output_type": "stream",
     "text": [
      "_________________________________________________________________\n",
      "Layer (type)                 Output Shape              Param #   \n",
      "=================================================================\n",
      "embedding_3 (Embedding)      (None, None, 256)         2560000   \n",
      "_________________________________________________________________\n",
      "lstm_5 (LSTM)                (None, None, 128)         197120    \n",
      "_________________________________________________________________\n",
      "lstm_6 (LSTM)                (None, 128)               131584    \n",
      "_________________________________________________________________\n",
      "dense_3 (Dense)              (None, 1)                 129       \n",
      "=================================================================\n",
      "Total params: 2,888,833\n",
      "Trainable params: 2,888,833\n",
      "Non-trainable params: 0\n",
      "_________________________________________________________________\n",
      "Train on 22500 samples, validate on 2500 samples\n",
      "Epoch 1/10\n",
      "22500/22500 [==============================] - 206s 9ms/step - loss: 0.6126 - acc: 0.6457 - val_loss: 0.5045 - val_acc: 0.7544\n",
      "Epoch 2/10\n",
      "22500/22500 [==============================] - 201s 9ms/step - loss: 0.4292 - acc: 0.8036 - val_loss: 0.4622 - val_acc: 0.7736\n",
      "Epoch 3/10\n",
      "22500/22500 [==============================] - 199s 9ms/step - loss: 0.3404 - acc: 0.8570 - val_loss: 0.3306 - val_acc: 0.8580\n",
      "Epoch 4/10\n",
      "22500/22500 [==============================] - 201s 9ms/step - loss: 0.2944 - acc: 0.8783 - val_loss: 0.3181 - val_acc: 0.8712\n",
      "Epoch 5/10\n",
      "22500/22500 [==============================] - 200s 9ms/step - loss: 0.2544 - acc: 0.8975 - val_loss: 0.3274 - val_acc: 0.8708\n",
      "Epoch 6/10\n",
      "22500/22500 [==============================] - 203s 9ms/step - loss: 0.2269 - acc: 0.9118 - val_loss: 0.3022 - val_acc: 0.8792\n",
      "Epoch 7/10\n",
      "22500/22500 [==============================] - 200s 9ms/step - loss: 0.2047 - acc: 0.9205 - val_loss: 0.3429 - val_acc: 0.8696\n",
      "Epoch 8/10\n",
      "22500/22500 [==============================] - 201s 9ms/step - loss: 0.1906 - acc: 0.9277 - val_loss: 0.3767 - val_acc: 0.8592\n",
      "Epoch 9/10\n",
      "22500/22500 [==============================] - 202s 9ms/step - loss: 0.1687 - acc: 0.9379 - val_loss: 0.2903 - val_acc: 0.8888\n",
      "Epoch 10/10\n",
      "22500/22500 [==============================] - 202s 9ms/step - loss: 0.1546 - acc: 0.9427 - val_loss: 0.3479 - val_acc: 0.8776\n",
      "25000/25000 [==============================] - 46s 2ms/step\n",
      "Loss:  0.38652403109550476\n",
      "Accuracy:  0.859479999961853\n"
     ]
    }
   ],
   "source": [
    "# Architecture\n",
    "model = Sequential()\n",
    "model.add(Embedding(10000, 256))\n",
    "model.add(LSTM(128, activation='sigmoid', return_sequences=True))\n",
    "model.add(LSTM(128, activation='tanh'))\n",
    "model.add(Dense(1, activation='sigmoid'))\n",
    "model.compile(optimizer='rmsprop', loss='binary_crossentropy', metrics=['acc'])\n",
    "model.summary()\n",
    "\n",
    "# Fitting data\n",
    "LSTM2Log = model.fit(data_train, value_train,\n",
    "                       epochs=10,\n",
    "                       batch_size=128,\n",
    "                       validation_split=0.1)\n",
    "# Testing accuracy of parameters\n",
    "fo_loss, fo_accuracy = model.evaluate(data_test, value_test, batch_size=128)\n",
    "print(\"Loss: \", fo_loss)\n",
    "print(\"Accuracy: \", fo_accuracy)"
   ]
  },
  {
   "cell_type": "code",
   "execution_count": 9,
   "metadata": {},
   "outputs": [
    {
     "data": {
      "image/png": "[encoded data removed]",
      "text/plain": [
       "<Figure size 720x360 with 1 Axes>"
      ]
     },
     "metadata": {
      "needs_background": "light"
     },
     "output_type": "display_data"
    }
   ],
   "source": [
    "ts_tra_loss = LSTM2Log.history['loss']\n",
    "ts_val_loss = LSTM2Log.history['val_loss']\n",
    "\n",
    "ts_in_epochs = np.arange(0, len(ts_tra_loss))\n",
    "fig = plt.figure(figsize=(10, 5))\n",
    "\n",
    "plt.plot(ts_in_epochs, ts_tra_loss, 's-', color=\"k\", label='Training loss')\n",
    "plt.plot(ts_in_epochs, ts_val_loss, '^-', color=\"b\", label='Validation loss')\n",
    "\n",
    "ts_xlabels = np.arange(0, len(ts_in_epochs), 2)\n",
    "plt.xticks(ts_xlabels, ts_xlabels, fontsize=14)\n",
    "\n",
    "plt.xlabel(\"Epochs\", axis_font)\n",
    "plt.ylabel(\"Losses\", axis_font)\n",
    "plt.legend(ncol=2, frameon=False, fontsize=14)\n",
    "\n",
    "plt.show()"
   ]
  },
  {
   "cell_type": "markdown",
   "metadata": {},
   "source": [
    "### 4. Tanh:sigmoid activation functions"
   ]
  },
  {
   "cell_type": "code",
   "execution_count": 10,
   "metadata": {},
   "outputs": [
    {
     "name": "stdout",
     "output_type": "stream",
     "text": [
      "_________________________________________________________________\n",
      "Layer (type)                 Output Shape              Param #   \n",
      "=================================================================\n",
      "embedding_4 (Embedding)      (None, None, 256)         2560000   \n",
      "_________________________________________________________________\n",
      "lstm_7 (LSTM)                (None, None, 128)         197120    \n",
      "_________________________________________________________________\n",
      "lstm_8 (LSTM)                (None, 128)               131584    \n",
      "_________________________________________________________________\n",
      "dense_4 (Dense)              (None, 1)                 129       \n",
      "=================================================================\n",
      "Total params: 2,888,833\n",
      "Trainable params: 2,888,833\n",
      "Non-trainable params: 0\n",
      "_________________________________________________________________\n",
      "Train on 22500 samples, validate on 2500 samples\n",
      "Epoch 1/10\n",
      "22500/22500 [==============================] - 200s 9ms/step - loss: 0.4830 - acc: 0.7666 - val_loss: 0.3919 - val_acc: 0.8356\n",
      "Epoch 2/10\n",
      "22500/22500 [==============================] - 198s 9ms/step - loss: 0.3228 - acc: 0.8720 - val_loss: 0.3190 - val_acc: 0.8800\n",
      "Epoch 3/10\n",
      "22500/22500 [==============================] - 197s 9ms/step - loss: 0.2549 - acc: 0.9029 - val_loss: 0.3295 - val_acc: 0.8632\n",
      "Epoch 4/10\n",
      "22500/22500 [==============================] - 200s 9ms/step - loss: 0.2135 - acc: 0.9188 - val_loss: 0.3368 - val_acc: 0.8732\n",
      "Epoch 5/10\n",
      "22500/22500 [==============================] - 199s 9ms/step - loss: 0.1837 - acc: 0.9337 - val_loss: 0.3071 - val_acc: 0.8816\n",
      "Epoch 6/10\n",
      "22500/22500 [==============================] - 203s 9ms/step - loss: 0.1453 - acc: 0.9480 - val_loss: 0.3373 - val_acc: 0.8772\n",
      "Epoch 7/10\n",
      "22500/22500 [==============================] - 204s 9ms/step - loss: 0.1208 - acc: 0.9572 - val_loss: 0.3670 - val_acc: 0.8864\n",
      "Epoch 8/10\n",
      "22500/22500 [==============================] - 201s 9ms/step - loss: 0.0971 - acc: 0.9668 - val_loss: 0.3751 - val_acc: 0.8792\n",
      "Epoch 9/10\n",
      "22500/22500 [==============================] - 200s 9ms/step - loss: 0.0734 - acc: 0.9752 - val_loss: 0.5950 - val_acc: 0.8200\n",
      "Epoch 10/10\n",
      "22500/22500 [==============================] - 201s 9ms/step - loss: 0.0558 - acc: 0.9825 - val_loss: 0.4468 - val_acc: 0.8644\n",
      "25000/25000 [==============================] - 46s 2ms/step\n",
      "Loss:  0.4941158966255188\n",
      "Accuracy:  0.8503600000190735\n"
     ]
    }
   ],
   "source": [
    "# Architecture\n",
    "model = Sequential()\n",
    "model.add(Embedding(10000, 256))\n",
    "model.add(LSTM(128, activation='tanh', return_sequences=True))\n",
    "model.add(LSTM(128, activation='sigmoid'))\n",
    "model.add(Dense(1, activation='sigmoid'))\n",
    "model.compile(optimizer='rmsprop', loss='binary_crossentropy', metrics=['acc'])\n",
    "model.summary()\n",
    "\n",
    "# Fitting data\n",
    "LSTM2Log = model.fit(data_train, value_train,\n",
    "                       epochs=10,\n",
    "                       batch_size=128,\n",
    "                       validation_split=0.1)\n",
    "\n",
    "# Testing accuracy of parameters\n",
    "fo_loss, fo_accuracy = model.evaluate(data_test, value_test, batch_size=128)\n",
    "print(\"Loss: \", fo_loss)\n",
    "print(\"Accuracy: \", fo_accuracy)"
   ]
  },
  {
   "cell_type": "code",
   "execution_count": 11,
   "metadata": {},
   "outputs": [
    {
     "data": {
      "image/png": "[encoded data removed]",
      "text/plain": [
       "<Figure size 720x360 with 1 Axes>"
      ]
     },
     "metadata": {
      "needs_background": "light"
     },
     "output_type": "display_data"
    }
   ],
   "source": [
    "ts_tra_loss = LSTM2Log.history['loss']\n",
    "ts_val_loss = LSTM2Log.history['val_loss']\n",
    "\n",
    "ts_in_epochs = np.arange(0, len(ts_tra_loss))\n",
    "fig = plt.figure(figsize=(10, 5))\n",
    "\n",
    "plt.plot(ts_in_epochs, ts_tra_loss, 's-', color=\"k\", label='Training loss')\n",
    "plt.plot(ts_in_epochs, ts_val_loss, '^-', color=\"b\", label='Validation loss')\n",
    "\n",
    "ts_xlabels = np.arange(0, len(ts_in_epochs), 2)\n",
    "plt.xticks(ts_xlabels, ts_xlabels, fontsize=14)\n",
    "\n",
    "plt.xlabel(\"Epochs\", axis_font)\n",
    "plt.ylabel(\"Losses\", axis_font)\n",
    "plt.legend(ncol=2, frameon=False, fontsize=14)\n",
    "\n",
    "plt.show()"
   ]
  },
  {
   "cell_type": "markdown",
   "metadata": {},
   "source": [
    "## Gated recurrent unit (GRU)"
   ]
  },
  {
   "cell_type": "markdown",
   "metadata": {},
   "source": [
    "### 1. Sigmoid:sigmoid activation functions"
   ]
  },
  {
   "cell_type": "code",
   "execution_count": 12,
   "metadata": {},
   "outputs": [
    {
     "name": "stdout",
     "output_type": "stream",
     "text": [
      "_________________________________________________________________\n",
      "Layer (type)                 Output Shape              Param #   \n",
      "=================================================================\n",
      "embedding_5 (Embedding)      (None, None, 256)         2560000   \n",
      "_________________________________________________________________\n",
      "gru_1 (GRU)                  (None, None, 128)         147840    \n",
      "_________________________________________________________________\n",
      "gru_2 (GRU)                  (None, 128)               98688     \n",
      "_________________________________________________________________\n",
      "dense_5 (Dense)              (None, 1)                 129       \n",
      "=================================================================\n",
      "Total params: 2,806,657\n",
      "Trainable params: 2,806,657\n",
      "Non-trainable params: 0\n",
      "_________________________________________________________________\n",
      "Train on 22500 samples, validate on 2500 samples\n",
      "Epoch 1/10\n",
      "22500/22500 [==============================] - 182s 8ms/step - loss: 0.6352 - acc: 0.6119 - val_loss: 0.5614 - val_acc: 0.6860\n",
      "Epoch 2/10\n",
      "22500/22500 [==============================] - 176s 8ms/step - loss: 0.3676 - acc: 0.8392 - val_loss: 0.3037 - val_acc: 0.8824\n",
      "Epoch 3/10\n",
      "22500/22500 [==============================] - 171s 8ms/step - loss: 0.2581 - acc: 0.8971 - val_loss: 0.4286 - val_acc: 0.8136\n",
      "Epoch 4/10\n",
      "22500/22500 [==============================] - 173s 8ms/step - loss: 0.2016 - acc: 0.9208 - val_loss: 0.2769 - val_acc: 0.8936\n",
      "Epoch 5/10\n",
      "22500/22500 [==============================] - 174s 8ms/step - loss: 0.1651 - acc: 0.9376 - val_loss: 0.2993 - val_acc: 0.8956\n",
      "Epoch 6/10\n",
      "22500/22500 [==============================] - 172s 8ms/step - loss: 0.1374 - acc: 0.9489 - val_loss: 0.2817 - val_acc: 0.8996\n",
      "Epoch 7/10\n",
      "22500/22500 [==============================] - 171s 8ms/step - loss: 0.1158 - acc: 0.9600 - val_loss: 0.3402 - val_acc: 0.8896\n",
      "Epoch 8/10\n",
      "22500/22500 [==============================] - 176s 8ms/step - loss: 0.0980 - acc: 0.9662 - val_loss: 0.3313 - val_acc: 0.8888\n",
      "Epoch 9/10\n",
      "22500/22500 [==============================] - 172s 8ms/step - loss: 0.0804 - acc: 0.9716 - val_loss: 0.4173 - val_acc: 0.8712\n",
      "Epoch 10/10\n",
      "22500/22500 [==============================] - 175s 8ms/step - loss: 0.0693 - acc: 0.9768 - val_loss: 0.3996 - val_acc: 0.8780\n",
      "25000/25000 [==============================] - 45s 2ms/step\n",
      "Loss:  0.4223134780216217\n",
      "Accuracy:  0.8682399999618531\n"
     ]
    }
   ],
   "source": [
    "# Architecture\n",
    "model = Sequential()\n",
    "model.add(Embedding(10000, 256))\n",
    "model.add(GRU(128, activation='sigmoid', return_sequences=True))\n",
    "model.add(GRU(128, activation='sigmoid'))\n",
    "model.add(Dense(1, activation='sigmoid'))\n",
    "model.compile(optimizer='rmsprop', loss='binary_crossentropy', metrics=['acc'])\n",
    "model.summary()\n",
    "\n",
    "# Fitting data\n",
    "GRU2Log = model.fit(data_train, value_train,\n",
    "                       epochs=10,\n",
    "                       batch_size=128,\n",
    "                       validation_split=0.1)\n",
    "\n",
    "# Testing accuracy of parameters\n",
    "fo_loss, fo_accuracy = model.evaluate(data_test, value_test, batch_size=128)\n",
    "print(\"Loss: \", fo_loss)\n",
    "print(\"Accuracy: \", fo_accuracy)"
   ]
  },
  {
   "cell_type": "code",
   "execution_count": 13,
   "metadata": {},
   "outputs": [
    {
     "data": {
      "image/png": "[encoded data removed]",
      "text/plain": [
       "<Figure size 720x360 with 1 Axes>"
      ]
     },
     "metadata": {
      "needs_background": "light"
     },
     "output_type": "display_data"
    }
   ],
   "source": [
    "ts_tra_loss = GRU2Log.history['loss']\n",
    "ts_val_loss = GRU2Log.history['val_loss']\n",
    "\n",
    "ts_in_epochs = np.arange(0, len(ts_tra_loss))\n",
    "fig = plt.figure(figsize=(10, 5))\n",
    "\n",
    "plt.plot(ts_in_epochs, ts_tra_loss, 's-', color=\"k\", label='Training loss')\n",
    "plt.plot(ts_in_epochs, ts_val_loss, '^-', color=\"b\", label='Validation loss')\n",
    "\n",
    "ts_xlabels = np.arange(0, len(ts_in_epochs), 2)\n",
    "plt.xticks(ts_xlabels, ts_xlabels, fontsize=14)\n",
    "\n",
    "plt.xlabel(\"Epochs\", axis_font)\n",
    "plt.ylabel(\"Losses\", axis_font)\n",
    "plt.legend(ncol=2, frameon=False, fontsize=14)\n",
    "\n",
    "plt.show()"
   ]
  },
  {
   "cell_type": "markdown",
   "metadata": {},
   "source": [
    "### 2. tanh:tanh activation functions"
   ]
  },
  {
   "cell_type": "code",
   "execution_count": null,
   "metadata": {},
   "outputs": [
    {
     "name": "stdout",
     "output_type": "stream",
     "text": [
      "_________________________________________________________________\n",
      "Layer (type)                 Output Shape              Param #   \n",
      "=================================================================\n",
      "embedding_6 (Embedding)      (None, None, 256)         2560000   \n",
      "_________________________________________________________________\n",
      "gru_3 (GRU)                  (None, None, 128)         147840    \n",
      "_________________________________________________________________\n",
      "gru_4 (GRU)                  (None, 128)               98688     \n",
      "_________________________________________________________________\n",
      "dense_6 (Dense)              (None, 1)                 129       \n",
      "=================================================================\n",
      "Total params: 2,806,657\n",
      "Trainable params: 2,806,657\n",
      "Non-trainable params: 0\n",
      "_________________________________________________________________\n",
      "Train on 22500 samples, validate on 2500 samples\n",
      "Epoch 1/10\n",
      "22500/22500 [==============================] - 182s 8ms/step - loss: 0.5077 - acc: 0.7631 - val_loss: 0.3252 - val_acc: 0.8628\n",
      "Epoch 2/10\n",
      "22500/22500 [==============================] - 179s 8ms/step - loss: 0.3225 - acc: 0.8684 - val_loss: 0.3532 - val_acc: 0.8428\n",
      "Epoch 3/10\n",
      "22500/22500 [==============================] - 180s 8ms/step - loss: 0.2569 - acc: 0.9011 - val_loss: 0.3035 - val_acc: 0.8728\n",
      "Epoch 4/10\n",
      "22500/22500 [==============================] - 179s 8ms/step - loss: 0.2063 - acc: 0.9208 - val_loss: 0.3078 - val_acc: 0.8792\n",
      "Epoch 5/10\n",
      "22500/22500 [==============================] - 181s 8ms/step - loss: 0.1685 - acc: 0.9378 - val_loss: 0.3077 - val_acc: 0.8864\n",
      "Epoch 6/10\n",
      "22500/22500 [==============================] - 180s 8ms/step - loss: 0.1315 - acc: 0.9525 - val_loss: 0.3092 - val_acc: 0.8868\n",
      "Epoch 7/10\n",
      "22500/22500 [==============================] - 180s 8ms/step - loss: 0.0999 - acc: 0.9654 - val_loss: 0.3389 - val_acc: 0.8852\n",
      "Epoch 8/10\n",
      "22500/22500 [==============================] - 180s 8ms/step - loss: 0.0762 - acc: 0.9733 - val_loss: 0.4013 - val_acc: 0.8776\n",
      "Epoch 9/10\n",
      "13312/22500 [================>.............] - ETA: 1:12 - loss: 0.0501 - acc: 0.9834"
     ]
    }
   ],
   "source": [
    "# Architecture\n",
    "model = Sequential()\n",
    "model.add(Embedding(10000, 256))\n",
    "model.add(GRU(128, activation='tanh', return_sequences=True))\n",
    "model.add(GRU(128, activation='tanh'))\n",
    "model.add(Dense(1, activation='sigmoid'))\n",
    "model.compile(optimizer='rmsprop', loss='binary_crossentropy', metrics=['acc'])\n",
    "model.summary()\n",
    "\n",
    "# Fitting data\n",
    "GRU2Log = model.fit(data_train, value_train,\n",
    "                       epochs=10,\n",
    "                       batch_size=128,\n",
    "                       validation_split=0.1)\n",
    "\n",
    "# Testing accuracy of parameters\n",
    "fo_loss, fo_accuracy = model.evaluate(data_test, value_test, batch_size=128)\n",
    "print(\"Loss: \", fo_loss)\n",
    "print(\"Accuracy: \", fo_accuracy)"
   ]
  },
  {
   "cell_type": "code",
   "execution_count": null,
   "metadata": {},
   "outputs": [],
   "source": [
    "ts_tra_loss = GRU2Log.history['loss']\n",
    "ts_val_loss = GRU2Log.history['val_loss']\n",
    "\n",
    "ts_in_epochs = np.arange(0, len(ts_tra_loss))\n",
    "fig = plt.figure(figsize=(10, 5))\n",
    "\n",
    "plt.plot(ts_in_epochs, ts_tra_loss, 's-', color=\"k\", label='Training loss')\n",
    "plt.plot(ts_in_epochs, ts_val_loss, '^-', color=\"b\", label='Validation loss')\n",
    "\n",
    "ts_xlabels = np.arange(0, len(ts_in_epochs), 2)\n",
    "plt.xticks(ts_xlabels, ts_xlabels, fontsize=14)\n",
    "\n",
    "plt.xlabel(\"Epochs\", axis_font)\n",
    "plt.ylabel(\"Losses\", axis_font)\n",
    "plt.legend(ncol=2, frameon=False, fontsize=14)\n",
    "\n",
    "plt.show()"
   ]
  },
  {
   "cell_type": "markdown",
   "metadata": {},
   "source": [
    "### 3. Tanh:sigmoid activation functions"
   ]
  },
  {
   "cell_type": "code",
   "execution_count": null,
   "metadata": {},
   "outputs": [],
   "source": [
    "# Architecture\n",
    "model = Sequential()\n",
    "model.add(Embedding(10000, 256))\n",
    "model.add(GRU(128, activation='tanh', return_sequences=True))\n",
    "model.add(GRU(128, activation='sigmoid'))\n",
    "model.add(Dense(1, activation='sigmoid'))\n",
    "model.compile(optimizer='rmsprop', loss='binary_crossentropy', metrics=['acc'])\n",
    "model.summary()\n",
    "\n",
    "# Fitting data\n",
    "GRU2Log = model.fit(data_train, value_train,\n",
    "                       epochs=10,\n",
    "                       batch_size=128,\n",
    "                       validation_split=0.1)\n",
    "\n",
    "# Testing accuracy of parameters\n",
    "fo_loss, fo_accuracy = model.evaluate(data_test, value_test, batch_size=128)\n",
    "print(\"Loss: \", fo_loss)\n",
    "print(\"Accuracy: \", fo_accuracy)"
   ]
  },
  {
   "cell_type": "code",
   "execution_count": null,
   "metadata": {},
   "outputs": [],
   "source": [
    "ts_tra_loss = GRU2Log.history['loss']\n",
    "ts_val_loss = GRU2Log.history['val_loss']\n",
    "\n",
    "ts_in_epochs = np.arange(0, len(ts_tra_loss))\n",
    "fig = plt.figure(figsize=(10, 5))\n",
    "\n",
    "plt.plot(ts_in_epochs, ts_tra_loss, 's-', color=\"k\", label='Training loss')\n",
    "plt.plot(ts_in_epochs, ts_val_loss, '^-', color=\"b\", label='Validation loss')\n",
    "\n",
    "ts_xlabels = np.arange(0, len(ts_in_epochs), 2)\n",
    "plt.xticks(ts_xlabels, ts_xlabels, fontsize=14)\n",
    "\n",
    "plt.xlabel(\"Epochs\", axis_font)\n",
    "plt.ylabel(\"Losses\", axis_font)\n",
    "plt.legend(ncol=2, frameon=False, fontsize=14)\n",
    "\n",
    "plt.show()"
   ]
  },
  {
   "cell_type": "markdown",
   "metadata": {},
   "source": [
    "### 4. Sigmoid:tanh activation functions"
   ]
  },
  {
   "cell_type": "code",
   "execution_count": null,
   "metadata": {},
   "outputs": [],
   "source": [
    "# Architecture\n",
    "model = Sequential()\n",
    "model.add(Embedding(10000, 256))\n",
    "model.add(GRU(128, activation='sigmoid', return_sequences=True))\n",
    "model.add(GRU(128, activation='tanh'))\n",
    "model.add(Dense(1, activation='sigmoid'))\n",
    "model.compile(optimizer='rmsprop', loss='binary_crossentropy', metrics=['acc'])\n",
    "model.summary()\n",
    "\n",
    "# Fitting data\n",
    "GRU2Log = model.fit(data_train, value_train,\n",
    "                       epochs=10,\n",
    "                       batch_size=128,\n",
    "                       validation_split=0.1)\n",
    "\n",
    "# Testing accuracy of parameters\n",
    "fo_loss, fo_accuracy = model.evaluate(data_test, value_test, batch_size=128)\n",
    "print(\"Loss: \", fo_loss)\n",
    "print(\"Accuracy: \", fo_accuracy)"
   ]
  },
  {
   "cell_type": "code",
   "execution_count": null,
   "metadata": {},
   "outputs": [],
   "source": [
    "ts_tra_loss = GRU2Log.history['loss']\n",
    "ts_val_loss = GRU2Log.history['val_loss']\n",
    "\n",
    "ts_in_epochs = np.arange(0, len(ts_tra_loss))\n",
    "fig = plt.figure(figsize=(10, 5))\n",
    "\n",
    "plt.plot(ts_in_epochs, ts_tra_loss, 's-', color=\"k\", label='Training loss')\n",
    "plt.plot(ts_in_epochs, ts_val_loss, '^-', color=\"b\", label='Validation loss')\n",
    "\n",
    "ts_xlabels = np.arange(0, len(ts_in_epochs), 2)\n",
    "plt.xticks(ts_xlabels, ts_xlabels, fontsize=14)\n",
    "\n",
    "plt.xlabel(\"Epochs\", axis_font)\n",
    "plt.ylabel(\"Losses\", axis_font)\n",
    "plt.legend(ncol=2, frameon=False, fontsize=14)\n",
    "\n",
    "plt.show()"
   ]
  },
  {
   "cell_type": "markdown",
   "metadata": {},
   "source": [
    "## Stacking recurrent neural network (RNN) \n",
    "\n",
    "### 1. Tanh:tanh activation functions"
   ]
  },
  {
   "cell_type": "code",
   "execution_count": null,
   "metadata": {},
   "outputs": [],
   "source": [
    "# Architecture\n",
    "model = Sequential()\n",
    "model.add(Embedding(10000, 256))\n",
    "model.add(SimpleRNN(128, activation='tanh', return_sequences=True))\n",
    "model.add(SimpleRNN(128, activation='tanh'))\n",
    "model.add(Dense(1, activation='sigmoid'))\n",
    "model.compile(optimizer='rmsprop', loss='binary_crossentropy', metrics=['acc'])\n",
    "model.summary()\n",
    "\n",
    "# Fitting data\n",
    "RNN2Log = model.fit(data_train, value_train,\n",
    "                       epochs=10,\n",
    "                       batch_size=128,\n",
    "                       validation_split=0.1)\n",
    "\n",
    "# Testing accuracy of parameters\n",
    "fo_loss, fo_accuracy = model.evaluate(data_test, value_test, batch_size=128)\n",
    "print(\"Loss: \", fo_loss)\n",
    "print(\"Accuracy: \", fo_accuracy)"
   ]
  },
  {
   "cell_type": "code",
   "execution_count": null,
   "metadata": {},
   "outputs": [],
   "source": [
    "ts_tra_loss = RNN2Log.history['loss']\n",
    "ts_val_loss = RNN2Log.history['val_loss']\n",
    "\n",
    "ts_in_epochs = np.arange(0, len(ts_tra_loss))\n",
    "fig = plt.figure(figsize=(10, 5))\n",
    "\n",
    "plt.plot(ts_in_epochs, ts_tra_loss, 's-', color=\"k\", label='Training loss')\n",
    "plt.plot(ts_in_epochs, ts_val_loss, '^-', color=\"b\", label='Validation loss')\n",
    "\n",
    "ts_xlabels = np.arange(0, len(ts_in_epochs), 2)\n",
    "plt.xticks(ts_xlabels, ts_xlabels, fontsize=14)\n",
    "\n",
    "plt.xlabel(\"Epochs\", axis_font)\n",
    "plt.ylabel(\"Losses\", axis_font)\n",
    "plt.legend(ncol=2, frameon=False, fontsize=14)\n",
    "\n",
    "plt.show()"
   ]
  },
  {
   "cell_type": "markdown",
   "metadata": {},
   "source": [
    "### 2. Sigmoid:sigmoid activation functions"
   ]
  },
  {
   "cell_type": "code",
   "execution_count": null,
   "metadata": {},
   "outputs": [],
   "source": [
    "# Architecture\n",
    "model = Sequential()\n",
    "model.add(Embedding(10000, 256))\n",
    "model.add(SimpleRNN(128, activation='sigmoid', return_sequences=True))\n",
    "model.add(SimpleRNN(128, activation='sigmoid'))\n",
    "model.add(Dense(1, activation='sigmoid'))\n",
    "model.compile(optimizer='rmsprop', loss='binary_crossentropy', metrics=['acc'])\n",
    "model.summary()\n",
    "\n",
    "# Fitting data\n",
    "RNN2Log = model.fit(data_train, value_train,\n",
    "                       epochs=10,\n",
    "                       batch_size=128,\n",
    "                       validation_split=0.1)\n",
    "\n",
    "# Testing accuracy of parameters\n",
    "fo_loss, fo_accuracy = model.evaluate(data_test, value_test, batch_size=128)\n",
    "print(\"Loss: \", fo_loss)\n",
    "print(\"Accuracy: \", fo_accuracy)"
   ]
  },
  {
   "cell_type": "code",
   "execution_count": null,
   "metadata": {},
   "outputs": [],
   "source": [
    "ts_tra_loss = RNN2Log.history['loss']\n",
    "ts_val_loss = RNN2Log.history['val_loss']\n",
    "\n",
    "ts_in_epochs = np.arange(0, len(ts_tra_loss))\n",
    "fig = plt.figure(figsize=(10, 5))\n",
    "\n",
    "plt.plot(ts_in_epochs, ts_tra_loss, 's-', color=\"k\", label='Training loss')\n",
    "plt.plot(ts_in_epochs, ts_val_loss, '^-', color=\"b\", label='Validation loss')\n",
    "\n",
    "ts_xlabels = np.arange(0, len(ts_in_epochs), 2)\n",
    "plt.xticks(ts_xlabels, ts_xlabels, fontsize=14)\n",
    "\n",
    "plt.xlabel(\"Epochs\", axis_font)\n",
    "plt.ylabel(\"Losses\", axis_font)\n",
    "plt.legend(ncol=2, frameon=False, fontsize=14)\n",
    "\n",
    "plt.show()"
   ]
  },
  {
   "cell_type": "markdown",
   "metadata": {},
   "source": [
    "### 3. Sigmoid:tanh activation functions"
   ]
  },
  {
   "cell_type": "code",
   "execution_count": null,
   "metadata": {},
   "outputs": [],
   "source": [
    "# Architecture\n",
    "model = Sequential()\n",
    "model.add(Embedding(10000, 256))\n",
    "model.add(SimpleRNN(128, activation='sigmoid', return_sequences=True))\n",
    "model.add(SimpleRNN(128, activation='tanh'))\n",
    "model.add(Dense(1, activation='sigmoid'))\n",
    "model.compile(optimizer='rmsprop', loss='binary_crossentropy', metrics=['acc'])\n",
    "model.summary()\n",
    "\n",
    "# Fitting data\n",
    "RNN2Log = model.fit(data_train, value_train,\n",
    "                       epochs=10,\n",
    "                       batch_size=128,\n",
    "                       validation_split=0.1)\n",
    "\n",
    "# Testing accuracy of parameters\n",
    "fo_loss, fo_accuracy = model.evaluate(data_test, value_test, batch_size=128)\n",
    "print(\"Loss: \", fo_loss)\n",
    "print(\"Accuracy: \", fo_accuracy)"
   ]
  },
  {
   "cell_type": "code",
   "execution_count": null,
   "metadata": {},
   "outputs": [],
   "source": [
    "ts_tra_loss = RNN2Log.history['loss']\n",
    "ts_val_loss = RNN2Log.history['val_loss']\n",
    "\n",
    "ts_in_epochs = np.arange(0, len(ts_tra_loss))\n",
    "fig = plt.figure(figsize=(10, 5))\n",
    "\n",
    "plt.plot(ts_in_epochs, ts_tra_loss, 's-', color=\"k\", label='Training loss')\n",
    "plt.plot(ts_in_epochs, ts_val_loss, '^-', color=\"b\", label='Validation loss')\n",
    "\n",
    "ts_xlabels = np.arange(0, len(ts_in_epochs), 2)\n",
    "plt.xticks(ts_xlabels, ts_xlabels, fontsize=14)\n",
    "\n",
    "plt.xlabel(\"Epochs\", axis_font)\n",
    "plt.ylabel(\"Losses\", axis_font)\n",
    "plt.legend(ncol=2, frameon=False, fontsize=14)\n",
    "\n",
    "plt.show()"
   ]
  },
  {
   "cell_type": "markdown",
   "metadata": {},
   "source": [
    "### 4. Tanh:sigmoid activation functions"
   ]
  },
  {
   "cell_type": "code",
   "execution_count": null,
   "metadata": {},
   "outputs": [],
   "source": [
    "# Architecture\n",
    "model = Sequential()\n",
    "model.add(Embedding(10000, 256))\n",
    "model.add(SimpleRNN(128, activation='tanh', return_sequences=True))\n",
    "model.add(SimpleRNN(128, activation='sigmoid'))\n",
    "model.add(Dense(1, activation='sigmoid'))\n",
    "model.compile(optimizer='rmsprop', loss='binary_crossentropy', metrics=['acc'])\n",
    "model.summary()\n",
    "\n",
    "# Fitting data\n",
    "RNN2Log = model.fit(data_train, value_train,\n",
    "                       epochs=10,\n",
    "                       batch_size=128,\n",
    "                       validation_split=0.1)\n",
    "\n",
    "# Testing accuracy of parameters\n",
    "fo_loss, fo_accuracy = model.evaluate(data_test, value_test, batch_size=128)\n",
    "print(\"Loss: \", fo_loss)\n",
    "print(\"Accuracy: \", fo_accuracy)"
   ]
  },
  {
   "cell_type": "code",
   "execution_count": null,
   "metadata": {},
   "outputs": [],
   "source": [
    "ts_tra_loss = RNN2Log.history['loss']\n",
    "ts_val_loss = RNN2Log.history['val_loss']\n",
    "\n",
    "ts_in_epochs = np.arange(0, len(ts_tra_loss))\n",
    "fig = plt.figure(figsize=(10, 5))\n",
    "\n",
    "plt.plot(ts_in_epochs, ts_tra_loss, 's-', color=\"k\", label='Training loss')\n",
    "plt.plot(ts_in_epochs, ts_val_loss, '^-', color=\"b\", label='Validation loss')\n",
    "\n",
    "ts_xlabels = np.arange(0, len(ts_in_epochs), 2)\n",
    "plt.xticks(ts_xlabels, ts_xlabels, fontsize=14)\n",
    "\n",
    "plt.xlabel(\"Epochs\", axis_font)\n",
    "plt.ylabel(\"Losses\", axis_font)\n",
    "plt.legend(ncol=2, frameon=False, fontsize=14)\n",
    "\n",
    "plt.show()"
   ]
  },
  {
   "cell_type": "code",
   "execution_count": null,
   "metadata": {},
   "outputs": [],
   "source": []
  }
 ],
 "metadata": {
  "kernelspec": {
   "display_name": "Python 3",
   "language": "python",
   "name": "python3"
  },
  "language_info": {
   "codemirror_mode": {
    "name": "ipython",
    "version": 3
   },
   "file_extension": ".py",
   "mimetype": "text/x-python",
   "name": "python",
   "nbconvert_exporter": "python",
   "pygments_lexer": "ipython3",
   "version": "3.6.0"
  }
 },
 "nbformat": 4,
 "nbformat_minor": 2
}

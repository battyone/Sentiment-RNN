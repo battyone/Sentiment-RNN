{
 "cells": [
  {
   "cell_type": "markdown",
   "metadata": {},
   "source": [
    "# IMDB Sentiment\n",
    "\n",
    "## 1. Overview\n",
    "* It seems HELLO WORLD program for Keras community.\n",
    "* Tested multiple activation functions and RNN architectures to differentiate the performance.\n",
    "* Performed preprocessing data analysis to\n",
    "    * Identify optimal sequence length to estimate a max_len.\n",
    "    * Look for unique words in a dataset.\n",
    "    * Check common words after embedding in training and testing. "
   ]
  },
  {
   "cell_type": "markdown",
   "metadata": {},
   "source": [
    "## 2. Dataset\n",
    "\n",
    "### 2.1 Load most frequently appeared 10000 words"
   ]
  },
  {
   "cell_type": "code",
   "execution_count": 1,
   "metadata": {},
   "outputs": [
    {
     "name": "stderr",
     "output_type": "stream",
     "text": [
      "Using TensorFlow backend.\n"
     ]
    },
    {
     "name": "stdout",
     "output_type": "stream",
     "text": [
      "INFO: Loading imdb dataset...\n",
      "INFO: # of training sequences 25000\n",
      "INFO: # of testing sequences 25000\n"
     ]
    }
   ],
   "source": [
    "from keras.datasets import imdb\n",
    "from keras.preprocessing import sequence\n",
    "import numpy as np\n",
    "\n",
    "# As imdb.load_data() gave an error, found in stackoverflow following suggestions\n",
    "np_load_old = np.load\n",
    "np.load = lambda *a,**k: np_load_old(*a, allow_pickle=True, **k)\n",
    "\n",
    "print(\"INFO: Loading imdb dataset...\")\n",
    "(data_train, value_train), (data_test, value_test) = imdb.load_data(path=\"imdb.npz\", num_words=10000)\n",
    "print(\"INFO: # of training sequences %d\" %len(data_train))\n",
    "print(\"INFO: # of testing sequences %d\" %len(data_test))\n",
    "\n",
    "# restore np.load for normal use\n",
    "np.load = np_load_old"
   ]
  },
  {
   "cell_type": "markdown",
   "metadata": {},
   "source": [
    "## Matplotlib setup"
   ]
  },
  {
   "cell_type": "code",
   "execution_count": 2,
   "metadata": {},
   "outputs": [],
   "source": [
    "%matplotlib inline\n",
    "import matplotlib as mpl\n",
    "import matplotlib.pyplot as plt\n",
    "import matplotlib.colors as colors\n",
    "\n",
    "import seaborn as sns\n",
    "\n",
    "mpl.rc('axes', labelsize=14)\n",
    "mpl.rc('xtick', labelsize=12)\n",
    "mpl.rc('ytick', labelsize=12)\n",
    "\n",
    "font      = {'family':'arial', 'style':'normal', 'size':18}\n",
    "axis_font = {'family':'arial', 'style':'normal', 'size':18}\n",
    "plt.rc('font', **font)"
   ]
  },
  {
   "cell_type": "markdown",
   "metadata": {},
   "source": [
    "### 2.2 Compute sequence length distribution"
   ]
  },
  {
   "cell_type": "code",
   "execution_count": 3,
   "metadata": {},
   "outputs": [
    {
     "name": "stdout",
     "output_type": "stream",
     "text": [
      "Mean and Std. dev. (training) 238.71, 176.49\n",
      "Mean and Std. dev. (testing) 230.80, 169.16\n"
     ]
    }
   ],
   "source": [
    "ts_row_length = [len(ts_each_row) for ts_each_row in data_train]\n",
    "print(\"Mean and Std. dev. (training) %0.2f, %0.2f\" %(np.mean(ts_row_length), np.std(ts_row_length)))\n",
    "ts_row_length = [len(ts_each_row) for ts_each_row in data_test]\n",
    "print(\"Mean and Std. dev. (testing) %0.2f, %0.2f\" %(np.mean(ts_row_length), np.std(ts_row_length)))"
   ]
  },
  {
   "cell_type": "markdown",
   "metadata": {},
   "source": [
    "### 2.3 Dissect the dataset"
   ]
  },
  {
   "cell_type": "code",
   "execution_count": 4,
   "metadata": {},
   "outputs": [
    {
     "name": "stdout",
     "output_type": "stream",
     "text": [
      "# of word 5967841 and 9998 are unique in training\n",
      "# of word 5770105 and 9951 are unique in testing\n",
      "\n"
     ]
    }
   ],
   "source": [
    "num_total_words  = len(np.hstack(data_train))\n",
    "num_unique_words = len(np.unique(np.hstack(data_train)))\n",
    "print(\"# of word %d and %d are unique in training\" %(num_total_words, num_unique_words))\n",
    "\n",
    "num_total_words=len(np.hstack(data_test))\n",
    "num_unique_words=len(np.unique(np.hstack(data_test)))\n",
    "print(\"# of word %d and %d are unique in testing\" %(num_total_words, num_unique_words))\n",
    "print(\"\")"
   ]
  },
  {
   "cell_type": "markdown",
   "metadata": {},
   "source": [
    "### 2.4 Count positive and negative labels"
   ]
  },
  {
   "cell_type": "code",
   "execution_count": 5,
   "metadata": {},
   "outputs": [
    {
     "name": "stdout",
     "output_type": "stream",
     "text": [
      "Training:\n",
      "---------\n",
      "Label 0 = 12500\n",
      "Label 1 = 12500\n",
      "\n",
      "Testing:\n",
      "--------\n",
      "Label 0 = 12500\n",
      "Label 1 = 12500\n",
      "\n"
     ]
    }
   ],
   "source": [
    "labels, counts = np.unique(value_train, return_counts=True)\n",
    "print(\"Training:\")\n",
    "print(\"---------\")\n",
    "for st_label, in_count in zip(labels, counts):\n",
    "  print(\"Label {} = {}\".format(st_label, in_count))\n",
    "print(\"\")\n",
    "\n",
    "labels, counts = np.unique(value_test, return_counts=True)\n",
    "print(\"Testing:\")\n",
    "print(\"--------\")\n",
    "for st_label, in_count in zip(labels, counts):\n",
    "  print(\"Label {} = {}\".format(st_label, in_count))\n",
    "print(\"\")"
   ]
  },
  {
   "cell_type": "markdown",
   "metadata": {},
   "source": [
    "###  2.5 Identify any words common in training and testing"
   ]
  },
  {
   "cell_type": "code",
   "execution_count": 6,
   "metadata": {},
   "outputs": [
    {
     "name": "stdout",
     "output_type": "stream",
     "text": [
      "123 are common in both\n"
     ]
    }
   ],
   "source": [
    "ts_train_len = [len(ts_each_row) for ts_each_row in data_train]\n",
    "ts_test_len  = [len(ts_each_row) for ts_each_row in data_test]\n",
    "\n",
    "in_found = 0\n",
    "for in_train_idx, in_train_len in enumerate(ts_train_len):\n",
    "    ts_found_idxs = [in_test_idx for in_test_idx, in_test_len in enumerate(ts_test_len) \n",
    "                     if in_test_len == in_train_len]\n",
    "    for in_found_idx in ts_found_idxs:\n",
    "        if np.array_equal(data_train[in_train_idx],data_test[in_found_idx]):\n",
    "            in_found = in_found + 1\n",
    "if in_found > 0: print(\"%d are common in both\" %in_found) "
   ]
  },
  {
   "cell_type": "markdown",
   "metadata": {},
   "source": [
    "### 2.6 Padding \n",
    "\n",
    "Based on mean and standard deviation, maxlen 400 would maintain good balance between trimming and padding zero in the sequence. This is approximately one standard deviation above mean. With the value for maxlen, here are the tensor dimensions used."
   ]
  },
  {
   "cell_type": "code",
   "execution_count": 7,
   "metadata": {},
   "outputs": [
    {
     "name": "stdout",
     "output_type": "stream",
     "text": [
      "INFO: train shape  (25000, 400)\n",
      "INFO: test shape   (25000, 400)\n"
     ]
    }
   ],
   "source": [
    "in_max_len = 400\n",
    "data_train = sequence.pad_sequences(data_train, maxlen=in_max_len)\n",
    "data_test = sequence.pad_sequences(data_test, maxlen=in_max_len)\n",
    "print(\"INFO: train shape \", data_train.shape)\n",
    "print(\"INFO: test shape  \", data_test.shape)"
   ]
  },
  {
   "cell_type": "markdown",
   "metadata": {},
   "source": [
    "## 3. RNN architectures \n",
    "* Designed multiple RNN architectures."
   ]
  },
  {
   "cell_type": "code",
   "execution_count": 8,
   "metadata": {},
   "outputs": [],
   "source": [
    "from keras.models import Sequential\n",
    "from keras.layers import SimpleRNN, Embedding, LSTM, Dropout, Flatten, Dense, GRU"
   ]
  },
  {
   "cell_type": "markdown",
   "metadata": {},
   "source": [
    "### 3.1 Simple RNN \n",
    "\n",
    "### 3.1.1 Tanh (SimpleRNN) and sigmoid (Dense) activation functions"
   ]
  },
  {
   "cell_type": "code",
   "execution_count": 9,
   "metadata": {},
   "outputs": [
    {
     "name": "stderr",
     "output_type": "stream",
     "text": [
      "WARNING: Logging before flag parsing goes to stderr.\n",
      "W0822 18:39:37.190712 140338117453632 deprecation_wrapper.py:119] From /home/rojan/Kathmandu/Virtual/env/lib64/python3.6/site-packages/keras/backend/tensorflow_backend.py:74: The name tf.get_default_graph is deprecated. Please use tf.compat.v1.get_default_graph instead.\n",
      "\n",
      "W0822 18:39:37.222454 140338117453632 deprecation_wrapper.py:119] From /home/rojan/Kathmandu/Virtual/env/lib64/python3.6/site-packages/keras/backend/tensorflow_backend.py:517: The name tf.placeholder is deprecated. Please use tf.compat.v1.placeholder instead.\n",
      "\n",
      "W0822 18:39:37.225163 140338117453632 deprecation_wrapper.py:119] From /home/rojan/Kathmandu/Virtual/env/lib64/python3.6/site-packages/keras/backend/tensorflow_backend.py:4138: The name tf.random_uniform is deprecated. Please use tf.random.uniform instead.\n",
      "\n",
      "W0822 18:39:37.580686 140338117453632 deprecation_wrapper.py:119] From /home/rojan/Kathmandu/Virtual/env/lib64/python3.6/site-packages/keras/optimizers.py:790: The name tf.train.Optimizer is deprecated. Please use tf.compat.v1.train.Optimizer instead.\n",
      "\n",
      "W0822 18:39:37.614838 140338117453632 deprecation_wrapper.py:119] From /home/rojan/Kathmandu/Virtual/env/lib64/python3.6/site-packages/keras/backend/tensorflow_backend.py:3376: The name tf.log is deprecated. Please use tf.math.log instead.\n",
      "\n",
      "W0822 18:39:37.621978 140338117453632 deprecation.py:323] From /home/rojan/Kathmandu/Virtual/env/lib64/python3.6/site-packages/tensorflow/python/ops/nn_impl.py:180: add_dispatch_support.<locals>.wrapper (from tensorflow.python.ops.array_ops) is deprecated and will be removed in a future version.\n",
      "Instructions for updating:\n",
      "Use tf.where in 2.0, which has the same broadcast rule as np.where\n"
     ]
    },
    {
     "name": "stdout",
     "output_type": "stream",
     "text": [
      "_________________________________________________________________\n",
      "Layer (type)                 Output Shape              Param #   \n",
      "=================================================================\n",
      "embedding_1 (Embedding)      (None, None, 256)         2560000   \n",
      "_________________________________________________________________\n",
      "simple_rnn_1 (SimpleRNN)     (None, 128)               49280     \n",
      "_________________________________________________________________\n",
      "dense_1 (Dense)              (None, 1)                 129       \n",
      "=================================================================\n",
      "Total params: 2,609,409\n",
      "Trainable params: 2,609,409\n",
      "Non-trainable params: 0\n",
      "_________________________________________________________________\n"
     ]
    },
    {
     "name": "stderr",
     "output_type": "stream",
     "text": [
      "W0822 18:39:38.333113 140338117453632 deprecation_wrapper.py:119] From /home/rojan/Kathmandu/Virtual/env/lib64/python3.6/site-packages/keras/backend/tensorflow_backend.py:986: The name tf.assign_add is deprecated. Please use tf.compat.v1.assign_add instead.\n",
      "\n"
     ]
    },
    {
     "name": "stdout",
     "output_type": "stream",
     "text": [
      "Train on 22500 samples, validate on 2500 samples\n",
      "Epoch 1/10\n",
      "22500/22500 [==============================] - 95s 4ms/step - loss: 0.6469 - acc: 0.6180 - val_loss: 0.5341 - val_acc: 0.7252\n",
      "Epoch 2/10\n",
      "22500/22500 [==============================] - 71s 3ms/step - loss: 0.4665 - acc: 0.7822 - val_loss: 0.4950 - val_acc: 0.7648\n",
      "Epoch 3/10\n",
      "22500/22500 [==============================] - 61s 3ms/step - loss: 0.3470 - acc: 0.8532 - val_loss: 0.4531 - val_acc: 0.8056\n",
      "Epoch 4/10\n",
      "22500/22500 [==============================] - 61s 3ms/step - loss: 0.2621 - acc: 0.8924 - val_loss: 0.5244 - val_acc: 0.7828\n",
      "Epoch 5/10\n",
      "22500/22500 [==============================] - 61s 3ms/step - loss: 0.1857 - acc: 0.9289 - val_loss: 0.6088 - val_acc: 0.7712\n",
      "Epoch 6/10\n",
      "22500/22500 [==============================] - 61s 3ms/step - loss: 0.1100 - acc: 0.9613 - val_loss: 0.6545 - val_acc: 0.7816\n",
      "Epoch 7/10\n",
      "22500/22500 [==============================] - 61s 3ms/step - loss: 0.1082 - acc: 0.9588 - val_loss: 0.8707 - val_acc: 0.7152\n",
      "Epoch 8/10\n",
      "22500/22500 [==============================] - 61s 3ms/step - loss: 0.0642 - acc: 0.9782 - val_loss: 0.9465 - val_acc: 0.7268\n",
      "Epoch 9/10\n",
      "22500/22500 [==============================] - 61s 3ms/step - loss: 0.0377 - acc: 0.9872 - val_loss: 0.9993 - val_acc: 0.7528\n",
      "Epoch 10/10\n",
      "22500/22500 [==============================] - 61s 3ms/step - loss: 0.0363 - acc: 0.9869 - val_loss: 1.0492 - val_acc: 0.7492\n",
      "25000/25000 [==============================] - 24s 948us/step\n",
      "Loss: 1.037\n",
      "Accuracy: 0.744\n"
     ]
    }
   ],
   "source": [
    "# Architecture\n",
    "model = Sequential()\n",
    "model.add(Embedding(10000, 256))\n",
    "model.add(SimpleRNN(128, activation='tanh'))\n",
    "model.add(Dense(1, activation='sigmoid'))\n",
    "model.compile(optimizer='rmsprop', loss='binary_crossentropy', metrics=['acc'])\n",
    "model.summary()\n",
    "\n",
    "# Fitting data\n",
    "RNNLog = model.fit(data_train, value_train,\n",
    "                   epochs=10,\n",
    "                   batch_size=128,\n",
    "                   validation_split=0.1)\n",
    "\n",
    "# Testing accuracy of parameters\n",
    "fo_loss, fo_accuracy = model.evaluate(data_test, value_test, batch_size=128)\n",
    "print(\"Loss: %5.3f\" %fo_loss)\n",
    "print(\"Accuracy: %5.3f\" %fo_accuracy)"
   ]
  },
  {
   "cell_type": "code",
   "execution_count": 10,
   "metadata": {},
   "outputs": [
    {
     "data": {
      "text/plain": [
       "<matplotlib.legend.Legend at 0x7fa290dd5588>"
      ]
     },
     "execution_count": 10,
     "metadata": {},
     "output_type": "execute_result"
    },
    {
     "name": "stderr",
     "output_type": "stream",
     "text": [
      "W0822 18:50:55.818326 140338117453632 font_manager.py:1282] findfont: Font family ['arial'] not found. Falling back to DejaVu Sans.\n",
      "W0822 18:50:55.835956 140338117453632 font_manager.py:1282] findfont: Font family ['arial'] not found. Falling back to DejaVu Sans.\n",
      "W0822 18:50:55.856209 140338117453632 font_manager.py:1282] findfont: Font family ['arial'] not found. Falling back to DejaVu Sans.\n"
     ]
    },
    {
     "data": {
      "image/png": "[encoded data removed]",
      "text/plain": [
       "<Figure size 720x360 with 1 Axes>"
      ]
     },
     "metadata": {
      "needs_background": "light"
     },
     "output_type": "display_data"
    }
   ],
   "source": [
    "ts_tra_loss = RNNLog.history['loss']\n",
    "ts_val_loss = RNNLog.history['val_loss']\n",
    "\n",
    "ts_in_epochs = np.arange(0, len(ts_tra_loss))\n",
    "fig = plt.figure(figsize=(10, 5))\n",
    "\n",
    "plt.plot(ts_in_epochs, ts_tra_loss, 's-', color=\"k\", label='Training loss')\n",
    "plt.plot(ts_in_epochs, ts_val_loss, '^-', color=\"b\", label='Validation loss')\n",
    "\n",
    "ts_xlabels = np.arange(0, len(ts_in_epochs), 2)\n",
    "plt.xticks(ts_xlabels, ts_xlabels, fontsize=14)\n",
    "\n",
    "plt.xlabel(\"Epochs\", axis_font)\n",
    "plt.ylabel(\"Losses\", axis_font)\n",
    "plt.legend(ncol=2, frameon=False, fontsize=14)"
   ]
  },
  {
   "cell_type": "markdown",
   "metadata": {},
   "source": [
    "### 3.1.2 Relu (RNN) and sigmoid (Dense) activation functions"
   ]
  },
  {
   "cell_type": "code",
   "execution_count": 11,
   "metadata": {},
   "outputs": [
    {
     "name": "stdout",
     "output_type": "stream",
     "text": [
      "_________________________________________________________________\n",
      "Layer (type)                 Output Shape              Param #   \n",
      "=================================================================\n",
      "embedding_2 (Embedding)      (None, None, 256)         2560000   \n",
      "_________________________________________________________________\n",
      "simple_rnn_2 (SimpleRNN)     (None, 128)               49280     \n",
      "_________________________________________________________________\n",
      "dense_2 (Dense)              (None, 1)                 129       \n",
      "=================================================================\n",
      "Total params: 2,609,409\n",
      "Trainable params: 2,609,409\n",
      "Non-trainable params: 0\n",
      "_________________________________________________________________\n",
      "Train on 22500 samples, validate on 2500 samples\n",
      "Epoch 1/10\n",
      "22500/22500 [==============================] - 61s 3ms/step - loss: 5.0603 - acc: 0.5470 - val_loss: 7.8179 - val_acc: 0.5132\n",
      "Epoch 2/10\n",
      "22500/22500 [==============================] - 63s 3ms/step - loss: 7.8879 - acc: 0.5058 - val_loss: 7.9421 - val_acc: 0.5024\n",
      "Epoch 3/10\n",
      "22500/22500 [==============================] - 81s 4ms/step - loss: 7.9309 - acc: 0.5031 - val_loss: 7.9421 - val_acc: 0.5024\n",
      "Epoch 4/10\n",
      "22500/22500 [==============================] - 82s 4ms/step - loss: 7.9309 - acc: 0.5031 - val_loss: 7.9421 - val_acc: 0.5024\n",
      "Epoch 5/10\n",
      "22500/22500 [==============================] - 83s 4ms/step - loss: 7.9309 - acc: 0.5031 - val_loss: 7.9421 - val_acc: 0.5024\n",
      "Epoch 6/10\n",
      "22500/22500 [==============================] - 84s 4ms/step - loss: 7.9309 - acc: 0.5031 - val_loss: 7.9421 - val_acc: 0.5024\n",
      "Epoch 7/10\n",
      "22500/22500 [==============================] - 82s 4ms/step - loss: 7.9309 - acc: 0.5031 - val_loss: 7.9421 - val_acc: 0.5024\n",
      "Epoch 8/10\n",
      "22500/22500 [==============================] - 84s 4ms/step - loss: 7.9309 - acc: 0.5031 - val_loss: 7.9421 - val_acc: 0.5024\n",
      "Epoch 9/10\n",
      "22500/22500 [==============================] - 83s 4ms/step - loss: 7.9309 - acc: 0.5031 - val_loss: 7.9421 - val_acc: 0.5024\n",
      "Epoch 10/10\n",
      "22500/22500 [==============================] - 83s 4ms/step - loss: 7.9309 - acc: 0.5031 - val_loss: 7.9421 - val_acc: 0.5024\n",
      "25000/25000 [==============================] - 32s 1ms/step\n",
      "Loss: 7.916\n",
      "Accuracy: 0.504\n"
     ]
    }
   ],
   "source": [
    "# Architecture\n",
    "model = Sequential()\n",
    "model.add(Embedding(10000, 256))\n",
    "model.add(SimpleRNN(128, activation='relu'))\n",
    "model.add(Dense(1, activation='sigmoid'))\n",
    "model.compile(optimizer='rmsprop', loss='binary_crossentropy', metrics=['acc'])\n",
    "model.summary()\n",
    "\n",
    "# Fitting data\n",
    "RNNLog = model.fit(data_train, value_train,\n",
    "                       epochs=10,\n",
    "                       batch_size=128,\n",
    "                       validation_split=0.1)\n",
    "\n",
    "# Testing accuracy of parameters\n",
    "fo_loss, fo_accuracy = model.evaluate(data_test, value_test, batch_size=128)\n",
    "print(\"Loss: %5.3f\" %fo_loss)\n",
    "print(\"Accuracy: %5.3f\" %fo_accuracy)"
   ]
  },
  {
   "cell_type": "code",
   "execution_count": 12,
   "metadata": {},
   "outputs": [
    {
     "data": {
      "text/plain": [
       "<matplotlib.legend.Legend at 0x7fa2938879e8>"
      ]
     },
     "execution_count": 12,
     "metadata": {},
     "output_type": "execute_result"
    },
    {
     "data": {
      "image/png": "[encoded data removed]",
      "text/plain": [
       "<Figure size 720x360 with 1 Axes>"
      ]
     },
     "metadata": {
      "needs_background": "light"
     },
     "output_type": "display_data"
    }
   ],
   "source": [
    "ts_tra_loss = RNNLog.history['loss']\n",
    "ts_val_loss = RNNLog.history['val_loss']\n",
    "\n",
    "ts_in_epochs = np.arange(0, len(ts_tra_loss))\n",
    "fig = plt.figure(figsize=(10, 5))\n",
    "\n",
    "plt.plot(ts_in_epochs, ts_tra_loss, 's-', color=\"k\", label='Training loss')\n",
    "plt.plot(ts_in_epochs, ts_val_loss, '^-', color=\"b\", label='Validation loss')\n",
    "\n",
    "ts_xlabels = np.arange(0, len(ts_in_epochs), 2)\n",
    "plt.xticks(ts_xlabels, ts_xlabels, fontsize=14)\n",
    "\n",
    "plt.xlabel(\"Epochs\", axis_font)\n",
    "plt.ylabel(\"Losses\", axis_font)\n",
    "plt.legend(ncol=2, frameon=False, fontsize=14)"
   ]
  },
  {
   "cell_type": "markdown",
   "metadata": {},
   "source": [
    "### 3.1.3 Sigmoid (RNN) and sigmoid (Dense) activation functions"
   ]
  },
  {
   "cell_type": "code",
   "execution_count": 13,
   "metadata": {},
   "outputs": [
    {
     "name": "stdout",
     "output_type": "stream",
     "text": [
      "_________________________________________________________________\n",
      "Layer (type)                 Output Shape              Param #   \n",
      "=================================================================\n",
      "embedding_3 (Embedding)      (None, None, 256)         2560000   \n",
      "_________________________________________________________________\n",
      "simple_rnn_3 (SimpleRNN)     (None, 128)               49280     \n",
      "_________________________________________________________________\n",
      "dense_3 (Dense)              (None, 1)                 129       \n",
      "=================================================================\n",
      "Total params: 2,609,409\n",
      "Trainable params: 2,609,409\n",
      "Non-trainable params: 0\n",
      "_________________________________________________________________\n",
      "Train on 22500 samples, validate on 2500 samples\n",
      "Epoch 1/10\n",
      "22500/22500 [==============================] - 82s 4ms/step - loss: 0.6642 - acc: 0.5728 - val_loss: 0.6225 - val_acc: 0.6432\n",
      "Epoch 2/10\n",
      "22500/22500 [==============================] - 83s 4ms/step - loss: 0.5606 - acc: 0.7028 - val_loss: 0.5538 - val_acc: 0.7160\n",
      "Epoch 3/10\n",
      "22500/22500 [==============================] - 83s 4ms/step - loss: 0.4645 - acc: 0.7799 - val_loss: 0.4936 - val_acc: 0.7628\n",
      "Epoch 4/10\n",
      "22500/22500 [==============================] - 82s 4ms/step - loss: 0.4095 - acc: 0.8180 - val_loss: 0.6438 - val_acc: 0.7132\n",
      "Epoch 5/10\n",
      "22500/22500 [==============================] - 84s 4ms/step - loss: 0.3733 - acc: 0.8432 - val_loss: 0.5009 - val_acc: 0.7772\n",
      "Epoch 6/10\n",
      "22500/22500 [==============================] - 82s 4ms/step - loss: 0.3499 - acc: 0.8541 - val_loss: 0.5326 - val_acc: 0.7604\n",
      "Epoch 7/10\n",
      "22500/22500 [==============================] - 82s 4ms/step - loss: 0.3346 - acc: 0.8640 - val_loss: 0.5037 - val_acc: 0.7896\n",
      "Epoch 8/10\n",
      "22500/22500 [==============================] - 81s 4ms/step - loss: 0.3186 - acc: 0.8733 - val_loss: 0.5185 - val_acc: 0.7796\n",
      "Epoch 9/10\n",
      "22500/22500 [==============================] - 82s 4ms/step - loss: 0.3075 - acc: 0.8802 - val_loss: 0.5453 - val_acc: 0.7716\n",
      "Epoch 10/10\n",
      "22500/22500 [==============================] - 84s 4ms/step - loss: 0.3017 - acc: 0.8803 - val_loss: 0.5412 - val_acc: 0.7764\n",
      "25000/25000 [==============================] - 33s 1ms/step\n",
      "Loss: 0.530\n",
      "Accuracy: 0.774\n"
     ]
    }
   ],
   "source": [
    "# Architecture\n",
    "model = Sequential()\n",
    "model.add(Embedding(10000, 256))\n",
    "model.add(SimpleRNN(128, activation='sigmoid'))\n",
    "model.add(Dense(1, activation='sigmoid'))\n",
    "model.compile(optimizer='rmsprop', loss='binary_crossentropy', metrics=['acc'])\n",
    "model.summary()\n",
    "\n",
    "# Fitting data\n",
    "RNNLog = model.fit(data_train, value_train,\n",
    "                       epochs=10,\n",
    "                       batch_size=128,\n",
    "                       validation_split=0.1)\n",
    "\n",
    "# Testing accuracy of parameters\n",
    "fo_loss, fo_accuracy = model.evaluate(data_test, value_test, batch_size=128)\n",
    "print(\"Loss: %5.3f\" %fo_loss)\n",
    "print(\"Accuracy: %5.3f\" %fo_accuracy)"
   ]
  },
  {
   "cell_type": "code",
   "execution_count": 14,
   "metadata": {},
   "outputs": [
    {
     "data": {
      "text/plain": [
       "<matplotlib.legend.Legend at 0x7fa2960dfe48>"
      ]
     },
     "execution_count": 14,
     "metadata": {},
     "output_type": "execute_result"
    },
    {
     "data": {
      "image/png": "[encoded data removed]",
      "text/plain": [
       "<Figure size 720x360 with 1 Axes>"
      ]
     },
     "metadata": {
      "needs_background": "light"
     },
     "output_type": "display_data"
    }
   ],
   "source": [
    "ts_tra_loss = RNNLog.history['loss']\n",
    "ts_val_loss = RNNLog.history['val_loss']\n",
    "\n",
    "ts_in_epochs = np.arange(0, len(ts_tra_loss))\n",
    "fig = plt.figure(figsize=(10, 5))\n",
    "\n",
    "plt.plot(ts_in_epochs, ts_tra_loss, 's-', color=\"k\", label='Training loss')\n",
    "plt.plot(ts_in_epochs, ts_val_loss, '^-', color=\"b\", label='Validation loss')\n",
    "\n",
    "ts_xlabels = np.arange(0, len(ts_in_epochs), 2)\n",
    "plt.xticks(ts_xlabels, ts_xlabels, fontsize=14)\n",
    "\n",
    "plt.xlabel(\"Epochs\", axis_font)\n",
    "plt.ylabel(\"Losses\", axis_font)\n",
    "plt.legend(ncol=2, frameon=False, fontsize=14)"
   ]
  },
  {
   "cell_type": "markdown",
   "metadata": {},
   "source": [
    "### 3.1.4 Summary\n",
    "\n",
    "Two experiments showed that lost function is not converged between training and validation datasets. It seems longer simulation is required with more epochs to get a good fit model. The accuracy obtained on independent dataset are 75% (tanh) and 77% (sigmoid) using similar architecture. The performance of relu activation was the worst (50% on independent dataset). Due to the worst performance, relu activation is excluded for the further test.   \n",
    "\n",
    "### 3.2 Long short-term memory (LSTM)\n",
    "\n",
    "Similarly, LSTM layer was tested with different activation functions. \n",
    "\n",
    "### 3.2.1 Tanh (LSTM) and sigmoid (Dense) activation functions"
   ]
  },
  {
   "cell_type": "code",
   "execution_count": 15,
   "metadata": {},
   "outputs": [
    {
     "name": "stdout",
     "output_type": "stream",
     "text": [
      "_________________________________________________________________\n",
      "Layer (type)                 Output Shape              Param #   \n",
      "=================================================================\n",
      "embedding_4 (Embedding)      (None, None, 256)         2560000   \n",
      "_________________________________________________________________\n",
      "lstm_1 (LSTM)                (None, 128)               197120    \n",
      "_________________________________________________________________\n",
      "dense_4 (Dense)              (None, 1)                 129       \n",
      "=================================================================\n",
      "Total params: 2,757,249\n",
      "Trainable params: 2,757,249\n",
      "Non-trainable params: 0\n",
      "_________________________________________________________________\n",
      "Train on 22500 samples, validate on 2500 samples\n",
      "Epoch 1/10\n",
      "22500/22500 [==============================] - 275s 12ms/step - loss: 0.4912 - acc: 0.7674 - val_loss: 0.4468 - val_acc: 0.8036\n",
      "Epoch 2/10\n",
      "22500/22500 [==============================] - 272s 12ms/step - loss: 0.3139 - acc: 0.8737 - val_loss: 0.3217 - val_acc: 0.8612\n",
      "Epoch 3/10\n",
      "22500/22500 [==============================] - 277s 12ms/step - loss: 0.2509 - acc: 0.9039 - val_loss: 0.3309 - val_acc: 0.8696\n",
      "Epoch 4/10\n",
      "22500/22500 [==============================] - 276s 12ms/step - loss: 0.2133 - acc: 0.9170 - val_loss: 0.2882 - val_acc: 0.8784\n",
      "Epoch 5/10\n",
      "22500/22500 [==============================] - 277s 12ms/step - loss: 0.1794 - acc: 0.9348 - val_loss: 0.3163 - val_acc: 0.8800\n",
      "Epoch 6/10\n",
      "22500/22500 [==============================] - 270s 12ms/step - loss: 0.1539 - acc: 0.9443 - val_loss: 0.3755 - val_acc: 0.8460\n",
      "Epoch 7/10\n",
      "22500/22500 [==============================] - 273s 12ms/step - loss: 0.1293 - acc: 0.9553 - val_loss: 0.3257 - val_acc: 0.8820\n",
      "Epoch 8/10\n",
      "22500/22500 [==============================] - 274s 12ms/step - loss: 0.1039 - acc: 0.9640 - val_loss: 0.4001 - val_acc: 0.8740\n",
      "Epoch 9/10\n",
      "22500/22500 [==============================] - 272s 12ms/step - loss: 0.0914 - acc: 0.9684 - val_loss: 0.3707 - val_acc: 0.8828\n",
      "Epoch 10/10\n",
      "22500/22500 [==============================] - 272s 12ms/step - loss: 0.0701 - acc: 0.9771 - val_loss: 0.4200 - val_acc: 0.8748\n",
      "25000/25000 [==============================] - 63s 3ms/step\n",
      "Loss: 0.439\n",
      "Accuracy: 0.870\n"
     ]
    }
   ],
   "source": [
    "# Architecture\n",
    "model = Sequential()\n",
    "model.add(Embedding(10000, 256))\n",
    "model.add(LSTM(128, activation='tanh'))\n",
    "model.add(Dense(1, activation='sigmoid'))\n",
    "model.compile(optimizer='rmsprop', loss='binary_crossentropy', metrics=['acc'])\n",
    "model.summary()\n",
    "\n",
    "# Fitting data\n",
    "LSTMLog = model.fit(data_train, value_train,\n",
    "                       epochs=10,\n",
    "                       batch_size=128,\n",
    "                       validation_split=0.1)\n",
    "\n",
    "# Testing accuracy of parameters\n",
    "fo_loss, fo_accuracy = model.evaluate(data_test, value_test, batch_size=128)\n",
    "print(\"Loss: %5.3f\" %fo_loss)\n",
    "print(\"Accuracy: %5.3f\" %fo_accuracy)"
   ]
  },
  {
   "cell_type": "code",
   "execution_count": 16,
   "metadata": {},
   "outputs": [
    {
     "data": {
      "text/plain": [
       "<matplotlib.legend.Legend at 0x7fa2915526a0>"
      ]
     },
     "execution_count": 16,
     "metadata": {},
     "output_type": "execute_result"
    },
    {
     "data": {
      "image/png": "[encoded data removed]",
      "text/plain": [
       "<Figure size 720x360 with 1 Axes>"
      ]
     },
     "metadata": {
      "needs_background": "light"
     },
     "output_type": "display_data"
    }
   ],
   "source": [
    "ts_tra_loss = LSTMLog.history['loss']\n",
    "ts_val_loss = LSTMLog.history['val_loss']\n",
    "\n",
    "ts_in_epochs = np.arange(0, len(ts_tra_loss))\n",
    "fig = plt.figure(figsize=(10, 5))\n",
    "\n",
    "plt.plot(ts_in_epochs, ts_tra_loss, 's-', color=\"k\", label='Training loss')\n",
    "plt.plot(ts_in_epochs, ts_val_loss, '^-', color=\"b\", label='Validation loss')\n",
    "\n",
    "ts_xlabels = np.arange(0, len(ts_in_epochs), 2)\n",
    "plt.xticks(ts_xlabels, ts_xlabels, fontsize=14)\n",
    "\n",
    "plt.xlabel(\"Epochs\", axis_font)\n",
    "plt.ylabel(\"Losses\", axis_font)\n",
    "plt.legend(ncol=2, frameon=False, fontsize=14)"
   ]
  },
  {
   "cell_type": "markdown",
   "metadata": {},
   "source": [
    "### 3.2.2 Sigmoid (LSTM) and sigmoid (Dense) activation functions"
   ]
  },
  {
   "cell_type": "code",
   "execution_count": 17,
   "metadata": {},
   "outputs": [
    {
     "name": "stdout",
     "output_type": "stream",
     "text": [
      "_________________________________________________________________\n",
      "Layer (type)                 Output Shape              Param #   \n",
      "=================================================================\n",
      "embedding_5 (Embedding)      (None, None, 256)         2560000   \n",
      "_________________________________________________________________\n",
      "lstm_2 (LSTM)                (None, 128)               197120    \n",
      "_________________________________________________________________\n",
      "dense_5 (Dense)              (None, 1)                 129       \n",
      "=================================================================\n",
      "Total params: 2,757,249\n",
      "Trainable params: 2,757,249\n",
      "Non-trainable params: 0\n",
      "_________________________________________________________________\n",
      "Train on 22500 samples, validate on 2500 samples\n",
      "Epoch 1/10\n",
      "22500/22500 [==============================] - 272s 12ms/step - loss: 0.6001 - acc: 0.6572 - val_loss: 0.4727 - val_acc: 0.7784\n",
      "Epoch 2/10\n",
      "22500/22500 [==============================] - 269s 12ms/step - loss: 0.4049 - acc: 0.8224 - val_loss: 0.3629 - val_acc: 0.8396\n",
      "Epoch 3/10\n",
      "22500/22500 [==============================] - 267s 12ms/step - loss: 0.3123 - acc: 0.8730 - val_loss: 0.3353 - val_acc: 0.8604\n",
      "Epoch 4/10\n",
      "22500/22500 [==============================] - 268s 12ms/step - loss: 0.2493 - acc: 0.9004 - val_loss: 0.4045 - val_acc: 0.8320\n",
      "Epoch 5/10\n",
      "22500/22500 [==============================] - 271s 12ms/step - loss: 0.2041 - acc: 0.9211 - val_loss: 0.3082 - val_acc: 0.8772\n",
      "Epoch 6/10\n",
      "22500/22500 [==============================] - 268s 12ms/step - loss: 0.1658 - acc: 0.9378 - val_loss: 0.3123 - val_acc: 0.8804\n",
      "Epoch 7/10\n",
      "22500/22500 [==============================] - 271s 12ms/step - loss: 0.1464 - acc: 0.9455 - val_loss: 0.3183 - val_acc: 0.8816\n",
      "Epoch 8/10\n",
      "22500/22500 [==============================] - 271s 12ms/step - loss: 0.1260 - acc: 0.9544 - val_loss: 0.3563 - val_acc: 0.8684\n",
      "Epoch 9/10\n",
      "22500/22500 [==============================] - 268s 12ms/step - loss: 0.1091 - acc: 0.9595 - val_loss: 0.4008 - val_acc: 0.8628\n",
      "Epoch 10/10\n",
      "22500/22500 [==============================] - 271s 12ms/step - loss: 0.0955 - acc: 0.9654 - val_loss: 0.3719 - val_acc: 0.8780\n",
      "25000/25000 [==============================] - 63s 3ms/step\n",
      "Loss: 0.389\n",
      "Accuracy: 0.867\n"
     ]
    }
   ],
   "source": [
    "# Architecture\n",
    "model = Sequential()\n",
    "model.add(Embedding(10000, 256))\n",
    "model.add(LSTM(128, activation='sigmoid'))\n",
    "model.add(Dense(1, activation='sigmoid'))\n",
    "model.compile(optimizer='rmsprop', loss='binary_crossentropy', metrics=['acc'])\n",
    "model.summary()\n",
    "\n",
    "# Fitting data\n",
    "LSTMLog = model.fit(data_train, value_train,\n",
    "                       epochs=10,\n",
    "                       batch_size=128,\n",
    "                       validation_split=0.1)\n",
    "\n",
    "# Testing accuracy of parameters\n",
    "fo_loss, fo_accuracy = model.evaluate(data_test, value_test, batch_size=128)\n",
    "print(\"Loss: %5.3f\" %fo_loss)\n",
    "print(\"Accuracy: %5.3f\" %fo_accuracy)"
   ]
  },
  {
   "cell_type": "code",
   "execution_count": 18,
   "metadata": {},
   "outputs": [
    {
     "data": {
      "text/plain": [
       "<matplotlib.legend.Legend at 0x7fa2931f2f98>"
      ]
     },
     "execution_count": 18,
     "metadata": {},
     "output_type": "execute_result"
    },
    {
     "data": {
      "image/png": "[encoded data removed]",
      "text/plain": [
       "<Figure size 720x360 with 1 Axes>"
      ]
     },
     "metadata": {
      "needs_background": "light"
     },
     "output_type": "display_data"
    }
   ],
   "source": [
    "ts_tra_loss = LSTMLog.history['loss']\n",
    "ts_val_loss = LSTMLog.history['val_loss']\n",
    "\n",
    "ts_in_epochs = np.arange(0, len(ts_tra_loss))\n",
    "fig = plt.figure(figsize=(10, 5))\n",
    "\n",
    "plt.plot(ts_in_epochs, ts_tra_loss, 's-', color=\"k\", label='Training loss')\n",
    "plt.plot(ts_in_epochs, ts_val_loss, '^-', color=\"b\", label='Validation loss')\n",
    "\n",
    "ts_xlabels = np.arange(0, len(ts_in_epochs), 2)\n",
    "plt.xticks(ts_xlabels, ts_xlabels, fontsize=14)\n",
    "\n",
    "plt.xlabel(\"Epochs\", axis_font)\n",
    "plt.ylabel(\"Losses\", axis_font)\n",
    "plt.legend(ncol=2, frameon=False, fontsize=14)"
   ]
  },
  {
   "cell_type": "markdown",
   "metadata": {},
   "source": [
    "### 3.2.3 Summary\n",
    "\n",
    "LSTM with two activation functions had identical performance when accuracy of testing dataset was compared. But, this performance is improved over the result obtained using RNNSimple layer. The difference in losses from training and validation dataset implies that the model is overfitted.\n",
    "\n",
    "### 3.3 Gated Recurrent Unit (GRU)\n",
    "\n",
    "Similar to LSTM, GRU was tested  with two activation functions with same parameter as in LSTM layers.\n",
    "\n",
    "### 3.3.1 tanh (GRU) and sigmoid (Dense) activation functions"
   ]
  },
  {
   "cell_type": "code",
   "execution_count": 19,
   "metadata": {},
   "outputs": [
    {
     "name": "stdout",
     "output_type": "stream",
     "text": [
      "_________________________________________________________________\n",
      "Layer (type)                 Output Shape              Param #   \n",
      "=================================================================\n",
      "embedding_6 (Embedding)      (None, None, 256)         2560000   \n",
      "_________________________________________________________________\n",
      "gru_1 (GRU)                  (None, 128)               147840    \n",
      "_________________________________________________________________\n",
      "dense_6 (Dense)              (None, 1)                 129       \n",
      "=================================================================\n",
      "Total params: 2,707,969\n",
      "Trainable params: 2,707,969\n",
      "Non-trainable params: 0\n",
      "_________________________________________________________________\n",
      "Train on 22500 samples, validate on 2500 samples\n",
      "Epoch 1/10\n",
      "22500/22500 [==============================] - 223s 10ms/step - loss: 0.5458 - acc: 0.7598 - val_loss: 0.4252 - val_acc: 0.8064\n",
      "Epoch 2/10\n",
      "22500/22500 [==============================] - 221s 10ms/step - loss: 0.3234 - acc: 0.8687 - val_loss: 0.3733 - val_acc: 0.8352\n",
      "Epoch 3/10\n",
      "22500/22500 [==============================] - 221s 10ms/step - loss: 0.2646 - acc: 0.8976 - val_loss: 0.4082 - val_acc: 0.8632\n",
      "Epoch 4/10\n",
      "22500/22500 [==============================] - 222s 10ms/step - loss: 0.2197 - acc: 0.9195 - val_loss: 0.3187 - val_acc: 0.8908\n",
      "Epoch 5/10\n",
      "22500/22500 [==============================] - 220s 10ms/step - loss: 0.1707 - acc: 0.9373 - val_loss: 0.3222 - val_acc: 0.8776\n",
      "Epoch 6/10\n",
      "22500/22500 [==============================] - 222s 10ms/step - loss: 0.1377 - acc: 0.9516 - val_loss: 0.3760 - val_acc: 0.8824\n",
      "Epoch 7/10\n",
      "22500/22500 [==============================] - 222s 10ms/step - loss: 0.1091 - acc: 0.9618 - val_loss: 0.3694 - val_acc: 0.8828\n",
      "Epoch 8/10\n",
      "22500/22500 [==============================] - 223s 10ms/step - loss: 0.0820 - acc: 0.9720 - val_loss: 0.4088 - val_acc: 0.8624\n",
      "Epoch 9/10\n",
      "22500/22500 [==============================] - 222s 10ms/step - loss: 0.0651 - acc: 0.9788 - val_loss: 0.4049 - val_acc: 0.8672\n",
      "Epoch 10/10\n",
      "22500/22500 [==============================] - 221s 10ms/step - loss: 0.0422 - acc: 0.9863 - val_loss: 0.5179 - val_acc: 0.8876\n",
      "25000/25000 [==============================] - 58s 2ms/step\n",
      "Loss: 0.578\n",
      "Accuracy: 0.868\n"
     ]
    }
   ],
   "source": [
    "# Architecture\n",
    "model = Sequential()\n",
    "model.add(Embedding(10000, 256))\n",
    "model.add(GRU(128, activation='tanh'))\n",
    "model.add(Dense(1, activation='sigmoid'))\n",
    "model.compile(optimizer='rmsprop', loss='binary_crossentropy', metrics=['acc'])\n",
    "model.summary()\n",
    "\n",
    "# Fitting data\n",
    "GRULog = model.fit(data_train, value_train,\n",
    "                       epochs=10,\n",
    "                       batch_size=128,\n",
    "                       validation_split=0.1)\n",
    "\n",
    "# Testing accuracy of parameters\n",
    "fo_loss, fo_accuracy = model.evaluate(data_test, value_test, batch_size=128)\n",
    "print(\"Loss: %5.3f\" %fo_loss)\n",
    "print(\"Accuracy: %5.3f\" %fo_accuracy)"
   ]
  },
  {
   "cell_type": "code",
   "execution_count": 20,
   "metadata": {},
   "outputs": [
    {
     "data": {
      "text/plain": [
       "<matplotlib.legend.Legend at 0x7fa294a48ba8>"
      ]
     },
     "execution_count": 20,
     "metadata": {},
     "output_type": "execute_result"
    },
    {
     "data": {
      "image/png": "[encoded data removed]",
      "text/plain": [
       "<Figure size 720x360 with 1 Axes>"
      ]
     },
     "metadata": {
      "needs_background": "light"
     },
     "output_type": "display_data"
    }
   ],
   "source": [
    "ts_tra_loss = GRULog.history['loss']\n",
    "ts_val_loss = GRULog.history['val_loss']\n",
    "\n",
    "ts_in_epochs = np.arange(0, len(ts_tra_loss))\n",
    "fig = plt.figure(figsize=(10, 5))\n",
    "\n",
    "plt.plot(ts_in_epochs, ts_tra_loss, 's-', color=\"k\", label='Training loss')\n",
    "plt.plot(ts_in_epochs, ts_val_loss, '^-', color=\"b\", label='Validation loss')\n",
    "\n",
    "ts_xlabels = np.arange(0, len(ts_in_epochs), 2)\n",
    "plt.xticks(ts_xlabels, ts_xlabels, fontsize=14)\n",
    "\n",
    "plt.xlabel(\"Epochs\", axis_font)\n",
    "plt.ylabel(\"Losses\", axis_font)\n",
    "plt.legend(ncol=2, frameon=False, fontsize=14)"
   ]
  },
  {
   "cell_type": "markdown",
   "metadata": {},
   "source": [
    "### 3.3.2 Sigmoid (GRU) and sigmoid (Dense) activation functions"
   ]
  },
  {
   "cell_type": "code",
   "execution_count": 21,
   "metadata": {
    "scrolled": true
   },
   "outputs": [
    {
     "name": "stdout",
     "output_type": "stream",
     "text": [
      "_________________________________________________________________\n",
      "Layer (type)                 Output Shape              Param #   \n",
      "=================================================================\n",
      "embedding_7 (Embedding)      (None, None, 256)         2560000   \n",
      "_________________________________________________________________\n",
      "gru_2 (GRU)                  (None, 128)               147840    \n",
      "_________________________________________________________________\n",
      "dense_7 (Dense)              (None, 1)                 129       \n",
      "=================================================================\n",
      "Total params: 2,707,969\n",
      "Trainable params: 2,707,969\n",
      "Non-trainable params: 0\n",
      "_________________________________________________________________\n",
      "Train on 22500 samples, validate on 2500 samples\n",
      "Epoch 1/10\n",
      "22500/22500 [==============================] - 224s 10ms/step - loss: 0.6089 - acc: 0.6547 - val_loss: 0.4001 - val_acc: 0.8484\n",
      "Epoch 2/10\n",
      "22500/22500 [==============================] - 220s 10ms/step - loss: 0.2900 - acc: 0.8795 - val_loss: 0.2561 - val_acc: 0.9036\n",
      "Epoch 3/10\n",
      "22500/22500 [==============================] - 221s 10ms/step - loss: 0.1947 - acc: 0.9232 - val_loss: 0.2543 - val_acc: 0.9048\n",
      "Epoch 4/10\n",
      "22500/22500 [==============================] - 219s 10ms/step - loss: 0.1535 - acc: 0.9434 - val_loss: 0.2652 - val_acc: 0.8992\n",
      "Epoch 5/10\n",
      "22500/22500 [==============================] - 222s 10ms/step - loss: 0.1248 - acc: 0.9550 - val_loss: 0.3074 - val_acc: 0.8920\n",
      "Epoch 6/10\n",
      "22500/22500 [==============================] - 219s 10ms/step - loss: 0.1016 - acc: 0.9647 - val_loss: 0.3128 - val_acc: 0.8928\n",
      "Epoch 7/10\n",
      "22500/22500 [==============================] - 220s 10ms/step - loss: 0.0823 - acc: 0.9722 - val_loss: 0.3348 - val_acc: 0.8904\n",
      "Epoch 8/10\n",
      "22500/22500 [==============================] - 220s 10ms/step - loss: 0.0665 - acc: 0.9777 - val_loss: 0.3891 - val_acc: 0.8880\n",
      "Epoch 9/10\n",
      "22500/22500 [==============================] - 220s 10ms/step - loss: 0.0526 - acc: 0.9826 - val_loss: 0.4076 - val_acc: 0.8828\n",
      "Epoch 10/10\n",
      "22500/22500 [==============================] - 222s 10ms/step - loss: 0.0396 - acc: 0.9880 - val_loss: 0.4444 - val_acc: 0.8860\n",
      "25000/25000 [==============================] - 58s 2ms/step\n",
      "Loss: 0.479\n",
      "Accuracy: 0.869\n"
     ]
    }
   ],
   "source": [
    "# Architecture\n",
    "model = Sequential()\n",
    "model.add(Embedding(10000, 256))\n",
    "model.add(GRU(128, activation='sigmoid'))\n",
    "model.add(Dense(1, activation='sigmoid'))\n",
    "model.compile(optimizer='rmsprop', loss='binary_crossentropy', metrics=['acc'])\n",
    "model.summary()\n",
    "\n",
    "# Fitting data\n",
    "GRULog = model.fit(data_train, value_train,\n",
    "                       epochs=10,\n",
    "                       batch_size=128,\n",
    "                       validation_split=0.1)\n",
    "\n",
    "# Testing accuracy of parameters\n",
    "fo_loss, fo_accuracy = model.evaluate(data_test, value_test, batch_size=128)\n",
    "print(\"Loss: %5.3f\" %fo_loss)\n",
    "print(\"Accuracy: %5.3f\" %fo_accuracy)"
   ]
  },
  {
   "cell_type": "code",
   "execution_count": 22,
   "metadata": {},
   "outputs": [
    {
     "data": {
      "text/plain": [
       "<matplotlib.legend.Legend at 0x7fa2965944a8>"
      ]
     },
     "execution_count": 22,
     "metadata": {},
     "output_type": "execute_result"
    },
    {
     "data": {
      "image/png": "[encoded data removed]",
      "text/plain": [
       "<Figure size 720x360 with 1 Axes>"
      ]
     },
     "metadata": {
      "needs_background": "light"
     },
     "output_type": "display_data"
    }
   ],
   "source": [
    "ts_tra_loss = GRULog.history['loss']\n",
    "ts_val_loss = GRULog.history['val_loss']\n",
    "\n",
    "ts_in_epochs = np.arange(0, len(ts_tra_loss))\n",
    "fig = plt.figure(figsize=(10, 5))\n",
    "\n",
    "plt.plot(ts_in_epochs, ts_tra_loss, 's-', color=\"k\", label='Training loss')\n",
    "plt.plot(ts_in_epochs, ts_val_loss, '^-', color=\"b\", label='Validation loss')\n",
    "\n",
    "ts_xlabels = np.arange(0, len(ts_in_epochs), 2)\n",
    "plt.xticks(ts_xlabels, ts_xlabels, fontsize=14)\n",
    "\n",
    "plt.xlabel(\"Epochs\", axis_font)\n",
    "plt.ylabel(\"Losses\", axis_font)\n",
    "plt.legend(ncol=2, frameon=False, fontsize=14)"
   ]
  },
  {
   "cell_type": "markdown",
   "metadata": {},
   "source": [
    "### 3.3.3 Summary\n",
    "\n",
    "Both activation functions have significantly high loss values for validation dataset within 10 epochs. This indicates that loss functions for training and validating will not coverge soon and this model is also overfitted. Depsite the diverged loss values, accuracy for test dataset was obtained 87%.\n",
    "\n",
    "\n",
    "## 3.4 Final Remark\n",
    "\n",
    "Among three tested layers with two activation functions, the accuracy obtained from LSTM and GRU layers for both activation functions are high compared with SimpleRNN but are indistinguishable between them. The challenge of these models is to avoid overfitting. Notably, loss function over epochs reach to the same level at certain epoch, but their convergence is not continued afterward.  "
   ]
  }
 ],
 "metadata": {
  "kernelspec": {
   "display_name": "Python 3",
   "language": "python",
   "name": "python3"
  },
  "language_info": {
   "codemirror_mode": {
    "name": "ipython",
    "version": 3
   },
   "file_extension": ".py",
   "mimetype": "text/x-python",
   "name": "python",
   "nbconvert_exporter": "python",
   "pygments_lexer": "ipython3",
   "version": "3.6.0"
  }
 },
 "nbformat": 4,
 "nbformat_minor": 2
}
